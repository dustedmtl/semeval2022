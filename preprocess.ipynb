{
 "cells": [
  {
   "cell_type": "code",
   "execution_count": null,
   "id": "269388b2",
   "metadata": {},
   "outputs": [],
   "source": [
    "%load_ext autoreload\n",
    "%autoreload 2"
   ]
  },
  {
   "cell_type": "code",
   "execution_count": null,
   "id": "2fd301cd",
   "metadata": {},
   "outputs": [],
   "source": [
    "from IPython.core.display import display, HTML\n",
    "display(HTML(\"<style>.container { width: 95% !important; }</style>\"))\n",
    "pd.set_option('display.max_colwidth', None)"
   ]
  },
  {
   "cell_type": "code",
   "execution_count": null,
   "id": "5de8cb53",
   "metadata": {},
   "outputs": [],
   "source": [
    "import sys\n",
    "import os\n",
    "import re\n",
    "import numpy as np\n",
    "import pandas as pd\n",
    "\n",
    "# from pathlib import Path\n",
    "from tqdm.notebook import tqdm"
   ]
  },
  {
   "cell_type": "code",
   "execution_count": null,
   "id": "be22f0bd",
   "metadata": {},
   "outputs": [],
   "source": [
    "from lib import util, embeds, fitter, masker"
   ]
  },
  {
   "cell_type": "code",
   "execution_count": null,
   "id": "09f1b72a",
   "metadata": {},
   "outputs": [],
   "source": [
    "# FIXME: add lines for git clone SemeEval2022 and Stitch data"
   ]
  },
  {
   "cell_type": "code",
   "execution_count": null,
   "id": "d721774f",
   "metadata": {},
   "outputs": [],
   "source": [
    "datapath = 'SemEval_2022_Task2-idiomaticity/SubTaskA/Data'"
   ]
  },
  {
   "cell_type": "markdown",
   "id": "5ddc2964",
   "metadata": {},
   "source": [
    "Load all the CSV files in dataframes."
   ]
  },
  {
   "cell_type": "code",
   "execution_count": null,
   "id": "ca85135a",
   "metadata": {},
   "outputs": [],
   "source": [
    "frames = util.load_csv_dataframes(datapath)"
   ]
  },
  {
   "cell_type": "code",
   "execution_count": null,
   "id": "206441d6",
   "metadata": {},
   "outputs": [],
   "source": [
    "frames.keys()"
   ]
  },
  {
   "cell_type": "code",
   "execution_count": null,
   "id": "06d76bdb",
   "metadata": {},
   "outputs": [],
   "source": [
    "zdf = frames['train_zero_shot.csv']\n",
    "odf = frames['train_one_shot.csv']\n",
    "ddf = frames['dev.csv']\n",
    "ddf_gold = frames['dev_gold.csv']\n",
    "edf = frames['eval.csv']"
   ]
  },
  {
   "cell_type": "code",
   "execution_count": null,
   "id": "0fb49eb2",
   "metadata": {},
   "outputs": [],
   "source": [
    "z_emb = embeds.get_embeddings(zdf)\n",
    "z_emb_i = embeds.get_embeddings(zdf, append=['MWE'])"
   ]
  },
  {
   "cell_type": "code",
   "execution_count": null,
   "id": "766123ac",
   "metadata": {},
   "outputs": [],
   "source": [
    "multilingual_model = 'distiluse-base-multilingual-cased-v1'"
   ]
  },
  {
   "cell_type": "markdown",
   "id": "c904cfb5",
   "metadata": {},
   "source": [
    "Get sentence-transformers embeddings with the best method (appending MWE to the text, ignoring context).\n",
    "\n",
    "The \"best\" method isn't actually completely true, as the original paper uses the \"idiomatic principle\" to encode the MWE, that is, using it as a single token when tokenizing."
   ]
  },
  {
   "cell_type": "code",
   "execution_count": null,
   "id": "763244e5",
   "metadata": {},
   "outputs": [],
   "source": [
    "z_emb_multi = embeds.get_embeddings(zdf, modelname=multilingual_model, append=['MWE'])"
   ]
  },
  {
   "cell_type": "code",
   "execution_count": null,
   "id": "e0593499",
   "metadata": {},
   "outputs": [],
   "source": [
    "d_emb_multi = embeds.get_embeddings(ddf, modelname=multilingual_model, append=['MWE'])"
   ]
  },
  {
   "cell_type": "markdown",
   "id": "ee00f8f6",
   "metadata": {},
   "source": [
    "Do a fitting with Logistic Regression."
   ]
  },
  {
   "cell_type": "code",
   "execution_count": null,
   "id": "805b0c47",
   "metadata": {},
   "outputs": [],
   "source": [
    "z_score, z_probs, z_results = fitter.get_fit_results(z_emb_multi, zdf['Label'], d_emb_multi, ddf_gold['Label'])"
   ]
  },
  {
   "cell_type": "code",
   "execution_count": null,
   "id": "4d2c0bf9",
   "metadata": {},
   "outputs": [],
   "source": [
    "z_score"
   ]
  },
  {
   "cell_type": "code",
   "execution_count": null,
   "id": "8433ad34",
   "metadata": {},
   "outputs": [],
   "source": [
    "dres = fitter.add_results(ddf, z_results, ddf_gold)"
   ]
  },
  {
   "cell_type": "code",
   "execution_count": null,
   "id": "33148744",
   "metadata": {},
   "outputs": [],
   "source": [
    "dres"
   ]
  },
  {
   "cell_type": "code",
   "execution_count": null,
   "id": "0e9516c8",
   "metadata": {},
   "outputs": [],
   "source": [
    "dres_counts = util.get_counts(dres)"
   ]
  },
  {
   "cell_type": "markdown",
   "id": "b48ee7bf",
   "metadata": {},
   "source": [
    "Show the MWEs that the model gets wrong more than half of the time. Are there any patterns?"
   ]
  },
  {
   "cell_type": "code",
   "execution_count": null,
   "id": "6b52d092",
   "metadata": {},
   "outputs": [],
   "source": [
    "dres_counts[dres_counts['Pct correct'] < 0.5].sort_values(by=['Language','MWE'])"
   ]
  },
  {
   "cell_type": "code",
   "execution_count": null,
   "id": "3d7a9b78",
   "metadata": {},
   "outputs": [],
   "source": [
    "zres_masked = masker.get_masked_features(zdf)"
   ]
  },
  {
   "cell_type": "code",
   "execution_count": null,
   "id": "e84eefe2",
   "metadata": {},
   "outputs": [],
   "source": [
    "zres_masked.groupby(['Language','Label','Hassub'])['DataID'].count()"
   ]
  },
  {
   "cell_type": "code",
   "execution_count": null,
   "id": "275f1069",
   "metadata": {},
   "outputs": [],
   "source": []
  }
 ],
 "metadata": {
  "kernelspec": {
   "display_name": "Python 3 (ipykernel)",
   "language": "python",
   "name": "python3"
  },
  "language_info": {
   "codemirror_mode": {
    "name": "ipython",
    "version": 3
   },
   "file_extension": ".py",
   "mimetype": "text/x-python",
   "name": "python",
   "nbconvert_exporter": "python",
   "pygments_lexer": "ipython3",
   "version": "3.8.2"
  }
 },
 "nbformat": 4,
 "nbformat_minor": 5
}
