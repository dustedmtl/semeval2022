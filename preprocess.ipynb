{
 "cells": [
  {
   "cell_type": "code",
   "execution_count": 46,
   "id": "2adaaabc",
   "metadata": {},
   "outputs": [
    {
     "name": "stdout",
     "output_type": "stream",
     "text": [
      "The autoreload extension is already loaded. To reload it, use:\n",
      "  %reload_ext autoreload\n"
     ]
    }
   ],
   "source": [
    "%load_ext autoreload\n",
    "%autoreload 2"
   ]
  },
  {
   "cell_type": "code",
   "execution_count": 1,
   "id": "ca4b09e5",
   "metadata": {},
   "outputs": [
    {
     "data": {
      "text/html": [
       "<style>.container { width: 95% !important; }</style>"
      ],
      "text/plain": [
       "<IPython.core.display.HTML object>"
      ]
     },
     "metadata": {},
     "output_type": "display_data"
    }
   ],
   "source": [
    "from IPython.core.display import display, HTML\n",
    "display(HTML(\"<style>.container { width: 95% !important; }</style>\"))"
   ]
  },
  {
   "cell_type": "code",
   "execution_count": 76,
   "id": "38c11531",
   "metadata": {},
   "outputs": [],
   "source": [
    "import sys\n",
    "import os\n",
    "import re\n",
    "import numpy as np\n",
    "import pandas as pd\n",
    "\n",
    "# from pathlib import Path\n",
    "from tqdm.notebook import tqdm"
   ]
  },
  {
   "cell_type": "code",
   "execution_count": 3,
   "id": "e8835dd1",
   "metadata": {},
   "outputs": [],
   "source": [
    "pd.set_option('display.max_colwidth', None)"
   ]
  },
  {
   "cell_type": "code",
   "execution_count": 77,
   "id": "bdc098d2",
   "metadata": {},
   "outputs": [],
   "source": [
    "from lib import util, embeds, fitter"
   ]
  },
  {
   "cell_type": "code",
   "execution_count": 108,
   "id": "14ca795e",
   "metadata": {},
   "outputs": [],
   "source": [
    "# FIXME: add lines for git clone SemeEval2022 and Stitch data"
   ]
  },
  {
   "cell_type": "code",
   "execution_count": 5,
   "id": "83a38111",
   "metadata": {},
   "outputs": [],
   "source": [
    "datapath = 'SemEval_2022_Task2-idiomaticity/SubTaskA/Data'"
   ]
  },
  {
   "cell_type": "markdown",
   "id": "c9c45860",
   "metadata": {},
   "source": [
    "Load all the CSV files in dataframes."
   ]
  },
  {
   "cell_type": "code",
   "execution_count": 25,
   "id": "b18f2a38",
   "metadata": {},
   "outputs": [],
   "source": [
    "frames = util.load_csv_dataframes(datapath)"
   ]
  },
  {
   "cell_type": "code",
   "execution_count": 30,
   "id": "32dfe965",
   "metadata": {
    "scrolled": true
   },
   "outputs": [
    {
     "data": {
      "text/plain": [
       "dict_keys(['dev_submission_format.csv', 'dev_gold.csv', 'eval_submission_format.csv', 'train_one_shot.csv', 'train_zero_shot.csv', 'dev.csv', 'eval.csv'])"
      ]
     },
     "execution_count": 30,
     "metadata": {},
     "output_type": "execute_result"
    }
   ],
   "source": [
    "frames.keys()"
   ]
  },
  {
   "cell_type": "code",
   "execution_count": 32,
   "id": "a0ea1c72",
   "metadata": {},
   "outputs": [],
   "source": [
    "zdf = frames['train_zero_shot.csv']\n",
    "odf = frames['train_one_shot.csv']\n",
    "ddf = frames['dev.csv']\n",
    "ddf_gold = frames['dev_gold.csv']\n",
    "edf = frames['eval.csv']"
   ]
  },
  {
   "cell_type": "code",
   "execution_count": 71,
   "id": "2a7d7335",
   "metadata": {},
   "outputs": [
    {
     "name": "stdout",
     "output_type": "stream",
     "text": [
      "Average sentence length: 157.86\n",
      "Appending to Target: MWE\n",
      "Average sentence length: 170.16\n"
     ]
    }
   ],
   "source": [
    "z_emb = embeds.get_embeddings(zdf)\n",
    "z_emb_i = embeds.get_embeddings(zdf, append=['MWE'])"
   ]
  },
  {
   "cell_type": "code",
   "execution_count": 70,
   "id": "d338d410",
   "metadata": {},
   "outputs": [],
   "source": [
    "multilingual_model = 'distiluse-base-multilingual-cased-v1'"
   ]
  },
  {
   "cell_type": "markdown",
   "id": "4789f74b",
   "metadata": {},
   "source": [
    "Get sentence-transformers embeddings with the best method (appending MWE to the text, ignoring context).\n",
    "\n",
    "The \"best\" method isn't actually completely true, as the original paper uses the \"idiomatic principle\" to encode the MWE, that is, using it as a single token when tokenizing."
   ]
  },
  {
   "cell_type": "code",
   "execution_count": 73,
   "id": "76a062d9",
   "metadata": {},
   "outputs": [
    {
     "name": "stdout",
     "output_type": "stream",
     "text": [
      "Appending to Target: MWE\n",
      "Average sentence length: 170.16\n"
     ]
    }
   ],
   "source": [
    "z_emb_multi = embeds.get_embeddings(zdf, modelname=multilingual_model, append=['MWE'])"
   ]
  },
  {
   "cell_type": "code",
   "execution_count": 74,
   "id": "d6db149c",
   "metadata": {},
   "outputs": [
    {
     "name": "stdout",
     "output_type": "stream",
     "text": [
      "Appending to Target: MWE\n",
      "Average sentence length: 164.48\n"
     ]
    }
   ],
   "source": [
    "d_emb_multi = embeds.get_embeddings(ddf, modelname=multilingual_model, append=['MWE'])"
   ]
  },
  {
   "cell_type": "markdown",
   "id": "12903322",
   "metadata": {},
   "source": [
    "Do a fitting with Logistic Regression."
   ]
  },
  {
   "cell_type": "code",
   "execution_count": 102,
   "id": "52f13165",
   "metadata": {},
   "outputs": [],
   "source": [
    "z_score, z_probs, z_results = fitter.get_fit_results(z_emb_multi, zdf['Label'], d_emb_multi, ddf_gold['Label'])"
   ]
  },
  {
   "cell_type": "code",
   "execution_count": 103,
   "id": "10984262",
   "metadata": {},
   "outputs": [
    {
     "data": {
      "text/plain": [
       "0.6143437077131259"
      ]
     },
     "execution_count": 103,
     "metadata": {},
     "output_type": "execute_result"
    }
   ],
   "source": [
    "z_score"
   ]
  },
  {
   "cell_type": "code",
   "execution_count": 104,
   "id": "2008041d",
   "metadata": {},
   "outputs": [],
   "source": [
    "dres = fitter.add_results(ddf, z_results, ddf_gold)"
   ]
  },
  {
   "cell_type": "code",
   "execution_count": 105,
   "id": "b004d7ca",
   "metadata": {
    "scrolled": true
   },
   "outputs": [
    {
     "data": {
      "text/html": [
       "<div>\n",
       "<style scoped>\n",
       "    .dataframe tbody tr th:only-of-type {\n",
       "        vertical-align: middle;\n",
       "    }\n",
       "\n",
       "    .dataframe tbody tr th {\n",
       "        vertical-align: top;\n",
       "    }\n",
       "\n",
       "    .dataframe thead th {\n",
       "        text-align: right;\n",
       "    }\n",
       "</style>\n",
       "<table border=\"1\" class=\"dataframe\">\n",
       "  <thead>\n",
       "    <tr style=\"text-align: right;\">\n",
       "      <th></th>\n",
       "      <th>ID</th>\n",
       "      <th>Language</th>\n",
       "      <th>MWE</th>\n",
       "      <th>Previous</th>\n",
       "      <th>Target</th>\n",
       "      <th>Next</th>\n",
       "      <th>Label</th>\n",
       "      <th>Prediction</th>\n",
       "      <th>Correct</th>\n",
       "    </tr>\n",
       "  </thead>\n",
       "  <tbody>\n",
       "    <tr>\n",
       "      <th>0</th>\n",
       "      <td>3652</td>\n",
       "      <td>EN</td>\n",
       "      <td>high life</td>\n",
       "      <td>Does the plumbing predictably rebel, creating a 1,000-foot cascade inside the central utility shaft?</td>\n",
       "      <td>Are these interruptions of the good life a necessary condition of the high life?</td>\n",
       "      <td>Not at all , says James von Klemperer, president of the architecture firm Kohn Pedersen Fox, which plants skyscrapers all over the world: “In a building that thin, this kind of thing can happen, but it shouldn’t.</td>\n",
       "      <td>1</td>\n",
       "      <td>1</td>\n",
       "      <td>True</td>\n",
       "    </tr>\n",
       "    <tr>\n",
       "      <th>1</th>\n",
       "      <td>11103</td>\n",
       "      <td>EN</td>\n",
       "      <td>high life</td>\n",
       "      <td>Let’s be honest – we would be chuffed if our bosses gave us a box of chocolates or a gift voucher as a Christmas treat.</td>\n",
       "      <td>But for Australian fashion designer Abby Kheir, there's no reason not to treat her employees to a taste of the high life all-year round.</td>\n",
       "      <td>Speaking to the Daily Mail , the owner of Abyss by Abby explained how she doesn't mind splashing out on her staff members so they all feel valued.</td>\n",
       "      <td>1</td>\n",
       "      <td>0</td>\n",
       "      <td>False</td>\n",
       "    </tr>\n",
       "    <tr>\n",
       "      <th>2</th>\n",
       "      <td>84346</td>\n",
       "      <td>EN</td>\n",
       "      <td>high life</td>\n",
       "      <td>I already have the winning ticket.</td>\n",
       "      <td>With that, I will be enjoying the pleasures of the high life knowing I earned money the hard way: Gambling with a bit of mega luck.</td>\n",
       "      <td>Charles Selle is a former News-Sun reporter, political editor and editor.</td>\n",
       "      <td>1</td>\n",
       "      <td>0</td>\n",
       "      <td>False</td>\n",
       "    </tr>\n",
       "    <tr>\n",
       "      <th>3</th>\n",
       "      <td>56279</td>\n",
       "      <td>EN</td>\n",
       "      <td>high life</td>\n",
       "      <td>There were signs everywhere of cosy, comfortable indoor-wear leaving its mark on outdoor styles, with both Miuccia Prada and Raf Simons layering up looks over long-johns.</td>\n",
       "      <td>Fendi offered swaddling, belted coats resembling dressing gowns over warm trousers, all in materials promising soft relaxation as much as the adventurous high life.</td>\n",
       "      <td>Shawl collars and enveloping dressing-gown styles were also on show at Zegna, while even windbreaker brand K-Way blurred lines between indoor and outdoor wear.</td>\n",
       "      <td>1</td>\n",
       "      <td>0</td>\n",
       "      <td>False</td>\n",
       "    </tr>\n",
       "    <tr>\n",
       "      <th>4</th>\n",
       "      <td>17886</td>\n",
       "      <td>EN</td>\n",
       "      <td>high life</td>\n",
       "      <td>Yet one thing is clear.</td>\n",
       "      <td>Rick Ross and Diddy exemplify the high life, two bosses who are, by all counts, richer than they've ever been. Check out the picture below, and be sure to show some love to some hip-hop moguls in their natural habitat.</td>\n",
       "      <td>And who knows -- maybe we'll see Puff on his ad-lib game when Rick Ross drops his new album, vocals you already know were laced with blade firmly in hand.</td>\n",
       "      <td>1</td>\n",
       "      <td>0</td>\n",
       "      <td>False</td>\n",
       "    </tr>\n",
       "    <tr>\n",
       "      <th>...</th>\n",
       "      <td>...</td>\n",
       "      <td>...</td>\n",
       "      <td>...</td>\n",
       "      <td>...</td>\n",
       "      <td>...</td>\n",
       "      <td>...</td>\n",
       "      <td>...</td>\n",
       "      <td>...</td>\n",
       "      <td>...</td>\n",
       "    </tr>\n",
       "    <tr>\n",
       "      <th>734</th>\n",
       "      <td>95336</td>\n",
       "      <td>PT</td>\n",
       "      <td>papel higiênico</td>\n",
       "      <td>O presidente da Suzano Papel e Celulose, Walter Schalka, afirmou em entrevista à Bloomberg sobre o surgimento do problema de exportação de polpa de celulose, utilizada para fabricação de papel higiênico.</td>\n",
       "      <td>A Suzano Papel e Celulose é uma das 10 maiores produtoras de celulose do mercado global, realizando um terço de todas as entregas mundiais de matéria- prima para fabricação de papel higiênico.</td>\n",
       "      <td>Vale destacar que a Suzano já recebeu menos entregas em março do que esperava e teve de adiar algumas para abril.</td>\n",
       "      <td>1</td>\n",
       "      <td>1</td>\n",
       "      <td>True</td>\n",
       "    </tr>\n",
       "    <tr>\n",
       "      <th>735</th>\n",
       "      <td>20353</td>\n",
       "      <td>PT</td>\n",
       "      <td>papel higiênico</td>\n",
       "      <td>Atualmente, poderiam surgir problemas com cargas em outros tipos de embalagens, como sacos, barris e caixas.</td>\n",
       "      <td>O presidente da Suzano Papel e Celulose, Walter Schalka, afirmou em entrevista à Bloomberg sobre o surgimento do problema de exportação de polpa de celulose, utilizada para fabricação de papel higiênico.</td>\n",
       "      <td>A Suzano Papel e Celulose é uma das 10 maiores produtoras de celulose do mercado global, realizando um terço de todas as entregas mundiais de matéria- prima para fabricação de papel higiênico.</td>\n",
       "      <td>1</td>\n",
       "      <td>0</td>\n",
       "      <td>False</td>\n",
       "    </tr>\n",
       "    <tr>\n",
       "      <th>736</th>\n",
       "      <td>54479</td>\n",
       "      <td>PT</td>\n",
       "      <td>papel higiênico</td>\n",
       "      <td>Policiais penais do Complexo Penitenciário Dr Manoel Carvalho Neto (Copemcan), em São Cristóvão, prenderam em flagrante cinco mulheres que tentavam entregar drogas aos internos da unidade prisional.</td>\n",
       "      <td>O material entorpecente estava escondido em rolos de papel higiênico.</td>\n",
       "      <td>O flagrante ocorreu na manhã desta sexta-feira, 16.</td>\n",
       "      <td>1</td>\n",
       "      <td>0</td>\n",
       "      <td>False</td>\n",
       "    </tr>\n",
       "    <tr>\n",
       "      <th>737</th>\n",
       "      <td>85941</td>\n",
       "      <td>PT</td>\n",
       "      <td>papel higiênico</td>\n",
       "      <td>O acidente ocorreu depois de fortes rajadas de vento</td>\n",
       "      <td>No caso do papel higiênico, a escassez de contêineres que já afetava o setor coincide com o aperto na oferta global de celulose, que enfrenta no momento uma demanda forte puxada pelo maior consumo de papel higiênico e outros produtos ligados à cadeia desse insumo.</td>\n",
       "      <td>Schalka, da Suzano, teme que os problemas logísticos virem uma bola de neve e só piorem nos próximos meses.</td>\n",
       "      <td>1</td>\n",
       "      <td>0</td>\n",
       "      <td>False</td>\n",
       "    </tr>\n",
       "    <tr>\n",
       "      <th>738</th>\n",
       "      <td>13078</td>\n",
       "      <td>PT</td>\n",
       "      <td>papel higiênico</td>\n",
       "      <td>Um incêndio atingiu um caminhão na noite desta segunda-feira (5), no km 315 da rodovia Anhanguera (SP-330), em Ribeirão Preto.</td>\n",
       "      <td>Segundo as informações, o veículo transportava papel higiênico e não houve feridos.</td>\n",
       "      <td>O Corpo de Bombeiros fez o combate ao fogo e conseguiu controlar as chamas no baú do caminhão.</td>\n",
       "      <td>1</td>\n",
       "      <td>0</td>\n",
       "      <td>False</td>\n",
       "    </tr>\n",
       "  </tbody>\n",
       "</table>\n",
       "<p>739 rows × 9 columns</p>\n",
       "</div>"
      ],
      "text/plain": [
       "        ID Language              MWE  \\\n",
       "0     3652       EN        high life   \n",
       "1    11103       EN        high life   \n",
       "2    84346       EN        high life   \n",
       "3    56279       EN        high life   \n",
       "4    17886       EN        high life   \n",
       "..     ...      ...              ...   \n",
       "734  95336       PT  papel higiênico   \n",
       "735  20353       PT  papel higiênico   \n",
       "736  54479       PT  papel higiênico   \n",
       "737  85941       PT  papel higiênico   \n",
       "738  13078       PT  papel higiênico   \n",
       "\n",
       "                                                                                                                                                                                                        Previous  \\\n",
       "0                                                                                                           Does the plumbing predictably rebel, creating a 1,000-foot cascade inside the central utility shaft?   \n",
       "1                                                                                        Let’s be honest – we would be chuffed if our bosses gave us a box of chocolates or a gift voucher as a Christmas treat.   \n",
       "2                                                                                                                                                                             I already have the winning ticket.   \n",
       "3                                     There were signs everywhere of cosy, comfortable indoor-wear leaving its mark on outdoor styles, with both Miuccia Prada and Raf Simons layering up looks over long-johns.   \n",
       "4                                                                                                                                                                                        Yet one thing is clear.   \n",
       "..                                                                                                                                                                                                           ...   \n",
       "734  O presidente da Suzano Papel e Celulose, Walter Schalka, afirmou em entrevista à Bloomberg sobre o surgimento do problema de exportação de polpa de celulose, utilizada para fabricação de papel higiênico.   \n",
       "735                                                                                                 Atualmente, poderiam surgir problemas com cargas em outros tipos de embalagens, como sacos, barris e caixas.   \n",
       "736       Policiais penais do Complexo Penitenciário Dr Manoel Carvalho Neto (Copemcan), em São Cristóvão, prenderam em flagrante cinco mulheres que tentavam entregar drogas aos internos da unidade prisional.   \n",
       "737                                                                                                                                                         O acidente ocorreu depois de fortes rajadas de vento   \n",
       "738                                                                               Um incêndio atingiu um caminhão na noite desta segunda-feira (5), no km 315 da rodovia Anhanguera (SP-330), em Ribeirão Preto.   \n",
       "\n",
       "                                                                                                                                                                                                                                                                       Target  \\\n",
       "0                                                                                                                                                                                            Are these interruptions of the good life a necessary condition of the high life?   \n",
       "1                                                                                                                                    But for Australian fashion designer Abby Kheir, there's no reason not to treat her employees to a taste of the high life all-year round.   \n",
       "2                                                                                                                                         With that, I will be enjoying the pleasures of the high life knowing I earned money the hard way: Gambling with a bit of mega luck.   \n",
       "3                                                                                                        Fendi offered swaddling, belted coats resembling dressing gowns over warm trousers, all in materials promising soft relaxation as much as the adventurous high life.   \n",
       "4                                                  Rick Ross and Diddy exemplify the high life, two bosses who are, by all counts, richer than they've ever been. Check out the picture below, and be sure to show some love to some hip-hop moguls in their natural habitat.   \n",
       "..                                                                                                                                                                                                                                                                        ...   \n",
       "734                                                                          A Suzano Papel e Celulose é uma das 10 maiores produtoras de celulose do mercado global, realizando um terço de todas as entregas mundiais de matéria- prima para fabricação de papel higiênico.   \n",
       "735                                                               O presidente da Suzano Papel e Celulose, Walter Schalka, afirmou em entrevista à Bloomberg sobre o surgimento do problema de exportação de polpa de celulose, utilizada para fabricação de papel higiênico.   \n",
       "736                                                                                                                                                                                                     O material entorpecente estava escondido em rolos de papel higiênico.   \n",
       "737  No caso do papel higiênico, a escassez de contêineres que já afetava o setor coincide com o aperto na oferta global de celulose, que enfrenta no momento uma demanda forte puxada pelo maior consumo de papel higiênico e outros produtos ligados à cadeia desse insumo.   \n",
       "738                                                                                                                                                                                       Segundo as informações, o veículo transportava papel higiênico e não houve feridos.   \n",
       "\n",
       "                                                                                                                                                                                                                     Next  \\\n",
       "0    Not at all , says James von Klemperer, president of the architecture firm Kohn Pedersen Fox, which plants skyscrapers all over the world: “In a building that thin, this kind of thing can happen, but it shouldn’t.   \n",
       "1                                                                      Speaking to the Daily Mail , the owner of Abyss by Abby explained how she doesn't mind splashing out on her staff members so they all feel valued.   \n",
       "2                                                                                                                                               Charles Selle is a former News-Sun reporter, political editor and editor.   \n",
       "3                                                         Shawl collars and enveloping dressing-gown styles were also on show at Zegna, while even windbreaker brand K-Way blurred lines between indoor and outdoor wear.   \n",
       "4                                                              And who knows -- maybe we'll see Puff on his ad-lib game when Rick Ross drops his new album, vocals you already know were laced with blade firmly in hand.   \n",
       "..                                                                                                                                                                                                                    ...   \n",
       "734                                                                                                     Vale destacar que a Suzano já recebeu menos entregas em março do que esperava e teve de adiar algumas para abril.   \n",
       "735                      A Suzano Papel e Celulose é uma das 10 maiores produtoras de celulose do mercado global, realizando um terço de todas as entregas mundiais de matéria- prima para fabricação de papel higiênico.   \n",
       "736                                                                                                                                                                   O flagrante ocorreu na manhã desta sexta-feira, 16.   \n",
       "737                                                                                                           Schalka, da Suzano, teme que os problemas logísticos virem uma bola de neve e só piorem nos próximos meses.   \n",
       "738                                                                                                                        O Corpo de Bombeiros fez o combate ao fogo e conseguiu controlar as chamas no baú do caminhão.   \n",
       "\n",
       "    Label Prediction  Correct  \n",
       "0       1          1     True  \n",
       "1       1          0    False  \n",
       "2       1          0    False  \n",
       "3       1          0    False  \n",
       "4       1          0    False  \n",
       "..    ...        ...      ...  \n",
       "734     1          1     True  \n",
       "735     1          0    False  \n",
       "736     1          0    False  \n",
       "737     1          0    False  \n",
       "738     1          0    False  \n",
       "\n",
       "[739 rows x 9 columns]"
      ]
     },
     "execution_count": 105,
     "metadata": {},
     "output_type": "execute_result"
    }
   ],
   "source": [
    "dres"
   ]
  },
  {
   "cell_type": "code",
   "execution_count": 106,
   "id": "bc444ddf",
   "metadata": {},
   "outputs": [],
   "source": [
    "dres_counts = util.get_counts(dres)"
   ]
  },
  {
   "cell_type": "markdown",
   "id": "bd6a69da",
   "metadata": {},
   "source": [
    "Show the MWEs that the model gets wrong more than half of the time. Are there any patterns?"
   ]
  },
  {
   "cell_type": "code",
   "execution_count": 107,
   "id": "8d86c62f",
   "metadata": {
    "scrolled": false
   },
   "outputs": [
    {
     "data": {
      "text/html": [
       "<div>\n",
       "<style scoped>\n",
       "    .dataframe tbody tr th:only-of-type {\n",
       "        vertical-align: middle;\n",
       "    }\n",
       "\n",
       "    .dataframe tbody tr th {\n",
       "        vertical-align: top;\n",
       "    }\n",
       "\n",
       "    .dataframe thead th {\n",
       "        text-align: right;\n",
       "    }\n",
       "</style>\n",
       "<table border=\"1\" class=\"dataframe\">\n",
       "  <thead>\n",
       "    <tr style=\"text-align: right;\">\n",
       "      <th></th>\n",
       "      <th>Language</th>\n",
       "      <th>MWE</th>\n",
       "      <th>0 (Idiomatic)</th>\n",
       "      <th>1 (Literal)</th>\n",
       "      <th>Total</th>\n",
       "      <th>Pct literal</th>\n",
       "      <th>Pct correct</th>\n",
       "    </tr>\n",
       "  </thead>\n",
       "  <tbody>\n",
       "    <tr>\n",
       "      <th>20</th>\n",
       "      <td>EN</td>\n",
       "      <td>bad hat</td>\n",
       "      <td>6</td>\n",
       "      <td>9</td>\n",
       "      <td>15</td>\n",
       "      <td>0.600000</td>\n",
       "      <td>0.400000</td>\n",
       "    </tr>\n",
       "    <tr>\n",
       "      <th>49</th>\n",
       "      <td>EN</td>\n",
       "      <td>bow tie</td>\n",
       "      <td>0</td>\n",
       "      <td>20</td>\n",
       "      <td>20</td>\n",
       "      <td>1.000000</td>\n",
       "      <td>0.300000</td>\n",
       "    </tr>\n",
       "    <tr>\n",
       "      <th>7</th>\n",
       "      <td>EN</td>\n",
       "      <td>cotton candy</td>\n",
       "      <td>2</td>\n",
       "      <td>11</td>\n",
       "      <td>13</td>\n",
       "      <td>0.846154</td>\n",
       "      <td>0.153846</td>\n",
       "    </tr>\n",
       "    <tr>\n",
       "      <th>10</th>\n",
       "      <td>EN</td>\n",
       "      <td>dry land</td>\n",
       "      <td>12</td>\n",
       "      <td>3</td>\n",
       "      <td>15</td>\n",
       "      <td>0.200000</td>\n",
       "      <td>0.466667</td>\n",
       "    </tr>\n",
       "    <tr>\n",
       "      <th>39</th>\n",
       "      <td>EN</td>\n",
       "      <td>economic aid</td>\n",
       "      <td>0</td>\n",
       "      <td>15</td>\n",
       "      <td>15</td>\n",
       "      <td>1.000000</td>\n",
       "      <td>0.200000</td>\n",
       "    </tr>\n",
       "    <tr>\n",
       "      <th>33</th>\n",
       "      <td>EN</td>\n",
       "      <td>pillow slip</td>\n",
       "      <td>0</td>\n",
       "      <td>14</td>\n",
       "      <td>14</td>\n",
       "      <td>1.000000</td>\n",
       "      <td>0.142857</td>\n",
       "    </tr>\n",
       "    <tr>\n",
       "      <th>29</th>\n",
       "      <td>EN</td>\n",
       "      <td>public service</td>\n",
       "      <td>9</td>\n",
       "      <td>9</td>\n",
       "      <td>18</td>\n",
       "      <td>0.500000</td>\n",
       "      <td>0.388889</td>\n",
       "    </tr>\n",
       "    <tr>\n",
       "      <th>2</th>\n",
       "      <td>EN</td>\n",
       "      <td>rice paper</td>\n",
       "      <td>15</td>\n",
       "      <td>1</td>\n",
       "      <td>16</td>\n",
       "      <td>0.062500</td>\n",
       "      <td>0.375000</td>\n",
       "    </tr>\n",
       "    <tr>\n",
       "      <th>6</th>\n",
       "      <td>EN</td>\n",
       "      <td>swan song</td>\n",
       "      <td>12</td>\n",
       "      <td>2</td>\n",
       "      <td>14</td>\n",
       "      <td>0.142857</td>\n",
       "      <td>0.357143</td>\n",
       "    </tr>\n",
       "    <tr>\n",
       "      <th>42</th>\n",
       "      <td>PT</td>\n",
       "      <td>alarme falso</td>\n",
       "      <td>0</td>\n",
       "      <td>15</td>\n",
       "      <td>15</td>\n",
       "      <td>1.000000</td>\n",
       "      <td>0.133333</td>\n",
       "    </tr>\n",
       "    <tr>\n",
       "      <th>43</th>\n",
       "      <td>PT</td>\n",
       "      <td>alta temporada</td>\n",
       "      <td>15</td>\n",
       "      <td>0</td>\n",
       "      <td>15</td>\n",
       "      <td>0.000000</td>\n",
       "      <td>0.200000</td>\n",
       "    </tr>\n",
       "    <tr>\n",
       "      <th>4</th>\n",
       "      <td>PT</td>\n",
       "      <td>alto-falante</td>\n",
       "      <td>1</td>\n",
       "      <td>15</td>\n",
       "      <td>16</td>\n",
       "      <td>0.937500</td>\n",
       "      <td>0.437500</td>\n",
       "    </tr>\n",
       "    <tr>\n",
       "      <th>24</th>\n",
       "      <td>PT</td>\n",
       "      <td>braço direito</td>\n",
       "      <td>7</td>\n",
       "      <td>8</td>\n",
       "      <td>15</td>\n",
       "      <td>0.533333</td>\n",
       "      <td>0.466667</td>\n",
       "    </tr>\n",
       "    <tr>\n",
       "      <th>19</th>\n",
       "      <td>PT</td>\n",
       "      <td>colégio militar</td>\n",
       "      <td>9</td>\n",
       "      <td>6</td>\n",
       "      <td>15</td>\n",
       "      <td>0.400000</td>\n",
       "      <td>0.466667</td>\n",
       "    </tr>\n",
       "    <tr>\n",
       "      <th>40</th>\n",
       "      <td>PT</td>\n",
       "      <td>desfile militar</td>\n",
       "      <td>0</td>\n",
       "      <td>15</td>\n",
       "      <td>15</td>\n",
       "      <td>1.000000</td>\n",
       "      <td>0.466667</td>\n",
       "    </tr>\n",
       "    <tr>\n",
       "      <th>26</th>\n",
       "      <td>PT</td>\n",
       "      <td>papel higiênico</td>\n",
       "      <td>0</td>\n",
       "      <td>8</td>\n",
       "      <td>8</td>\n",
       "      <td>1.000000</td>\n",
       "      <td>0.125000</td>\n",
       "    </tr>\n",
       "    <tr>\n",
       "      <th>36</th>\n",
       "      <td>PT</td>\n",
       "      <td>regime político</td>\n",
       "      <td>0</td>\n",
       "      <td>15</td>\n",
       "      <td>15</td>\n",
       "      <td>1.000000</td>\n",
       "      <td>0.333333</td>\n",
       "    </tr>\n",
       "  </tbody>\n",
       "</table>\n",
       "</div>"
      ],
      "text/plain": [
       "   Language              MWE  0 (Idiomatic)  1 (Literal)  Total  Pct literal  \\\n",
       "20       EN          bad hat              6            9     15     0.600000   \n",
       "49       EN          bow tie              0           20     20     1.000000   \n",
       "7        EN     cotton candy              2           11     13     0.846154   \n",
       "10       EN         dry land             12            3     15     0.200000   \n",
       "39       EN     economic aid              0           15     15     1.000000   \n",
       "33       EN      pillow slip              0           14     14     1.000000   \n",
       "29       EN   public service              9            9     18     0.500000   \n",
       "2        EN       rice paper             15            1     16     0.062500   \n",
       "6        EN        swan song             12            2     14     0.142857   \n",
       "42       PT     alarme falso              0           15     15     1.000000   \n",
       "43       PT   alta temporada             15            0     15     0.000000   \n",
       "4        PT     alto-falante              1           15     16     0.937500   \n",
       "24       PT    braço direito              7            8     15     0.533333   \n",
       "19       PT  colégio militar              9            6     15     0.400000   \n",
       "40       PT  desfile militar              0           15     15     1.000000   \n",
       "26       PT  papel higiênico              0            8      8     1.000000   \n",
       "36       PT  regime político              0           15     15     1.000000   \n",
       "\n",
       "    Pct correct  \n",
       "20     0.400000  \n",
       "49     0.300000  \n",
       "7      0.153846  \n",
       "10     0.466667  \n",
       "39     0.200000  \n",
       "33     0.142857  \n",
       "29     0.388889  \n",
       "2      0.375000  \n",
       "6      0.357143  \n",
       "42     0.133333  \n",
       "43     0.200000  \n",
       "4      0.437500  \n",
       "24     0.466667  \n",
       "19     0.466667  \n",
       "40     0.466667  \n",
       "26     0.125000  \n",
       "36     0.333333  "
      ]
     },
     "execution_count": 107,
     "metadata": {},
     "output_type": "execute_result"
    }
   ],
   "source": [
    "dres_counts[dres_counts['Pct correct'] < 0.5].sort_values(by=['Language','MWE'])"
   ]
  },
  {
   "cell_type": "code",
   "execution_count": null,
   "id": "54a0637e",
   "metadata": {},
   "outputs": [],
   "source": []
  }
 ],
 "metadata": {
  "kernelspec": {
   "display_name": "Python 3 (ipykernel)",
   "language": "python",
   "name": "python3"
  },
  "language_info": {
   "codemirror_mode": {
    "name": "ipython",
    "version": 3
   },
   "file_extension": ".py",
   "mimetype": "text/x-python",
   "name": "python",
   "nbconvert_exporter": "python",
   "pygments_lexer": "ipython3",
   "version": "3.8.2"
  }
 },
 "nbformat": 4,
 "nbformat_minor": 5
}
