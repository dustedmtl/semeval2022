{
 "cells": [
  {
   "cell_type": "code",
   "execution_count": null,
   "id": "104e01da",
   "metadata": {},
   "outputs": [],
   "source": [
    "%load_ext autoreload\n",
    "%autoreload 2"
   ]
  },
  {
   "cell_type": "code",
   "execution_count": null,
   "id": "10481d45",
   "metadata": {},
   "outputs": [],
   "source": [
    "from IPython.core.display import display, HTML\n",
    "display(HTML(\"<style>.container { width: 95% !important; }</style>\"))\n",
    "import pandas as pd\n",
    "pd.set_option('display.max_colwidth', None)"
   ]
  },
  {
   "cell_type": "code",
   "execution_count": null,
   "id": "f93f1a70",
   "metadata": {},
   "outputs": [],
   "source": [
    "import sys\n",
    "import os\n",
    "import re\n",
    "import numpy as np\n",
    "import pandas as pd\n",
    "\n",
    "# from pathlib import Path\n",
    "from tqdm.notebook import tqdm"
   ]
  },
  {
   "cell_type": "code",
   "execution_count": null,
   "id": "fdefe5dc",
   "metadata": {},
   "outputs": [],
   "source": [
    "from lib import util, embeds, fitter, masker, features, sentiment, translate"
   ]
  },
  {
   "cell_type": "code",
   "execution_count": null,
   "id": "a3197dc7",
   "metadata": {},
   "outputs": [],
   "source": [
    "# FIXME: add lines for git clone SemeEval2022 and Stitch data"
   ]
  },
  {
   "cell_type": "code",
   "execution_count": null,
   "id": "07f47b9c",
   "metadata": {},
   "outputs": [],
   "source": [
    "datapath = 'SemEval_2022_Task2-idiomaticity/SubTaskA/Data'"
   ]
  },
  {
   "cell_type": "markdown",
   "id": "5955adac",
   "metadata": {},
   "source": [
    "Load all the CSV files in dataframes."
   ]
  },
  {
   "cell_type": "code",
   "execution_count": null,
   "id": "61b74567",
   "metadata": {},
   "outputs": [],
   "source": [
    "frames = util.load_csv_dataframes(datapath)"
   ]
  },
  {
   "cell_type": "code",
   "execution_count": null,
   "id": "ec095fb2",
   "metadata": {},
   "outputs": [],
   "source": [
    "frames.keys()"
   ]
  },
  {
   "cell_type": "code",
   "execution_count": null,
   "id": "2fe8fa26",
   "metadata": {},
   "outputs": [],
   "source": [
    "zdf = frames['train_zero_shot.csv']\n",
    "odf = frames['train_one_shot.csv']\n",
    "ddf = frames['dev.csv']\n",
    "ddf_gold = frames['dev_gold.csv']\n",
    "edf = frames['eval.csv']"
   ]
  },
  {
   "cell_type": "code",
   "execution_count": null,
   "id": "57d645c8",
   "metadata": {},
   "outputs": [],
   "source": [
    "z_emb = embeds.get_embeddings(zdf)\n",
    "z_emb_i = embeds.get_embeddings(zdf, append=['MWE'])"
   ]
  },
  {
   "cell_type": "code",
   "execution_count": null,
   "id": "4e71b530",
   "metadata": {},
   "outputs": [],
   "source": [
    "multilingual_model = 'distiluse-base-multilingual-cased-v1'"
   ]
  },
  {
   "cell_type": "markdown",
   "id": "d00685a7",
   "metadata": {},
   "source": [
    "### Sentence transformers embeddings\n",
    "\n",
    "Get sentence-transformers embeddings with the best method (appending MWE to the text, ignoring context).\n",
    "\n",
    "The \"best\" method isn't actually completely true, as the original paper uses the \"idiomatic principle\" to encode the MWE, that is, using it as a single token when tokenizing."
   ]
  },
  {
   "cell_type": "code",
   "execution_count": null,
   "id": "96425da5",
   "metadata": {},
   "outputs": [],
   "source": [
    "z_emb_multi = embeds.get_embeddings(zdf, modelname=multilingual_model, append=['MWE'])"
   ]
  },
  {
   "cell_type": "code",
   "execution_count": null,
   "id": "8242f469",
   "metadata": {},
   "outputs": [],
   "source": [
    "d_emb_multi = embeds.get_embeddings(ddf, modelname=multilingual_model, append=['MWE'])"
   ]
  },
  {
   "cell_type": "markdown",
   "id": "f59d9e2f",
   "metadata": {},
   "source": [
    "Do a fitting for the embeddings with Logistic Regression."
   ]
  },
  {
   "cell_type": "code",
   "execution_count": null,
   "id": "1cddbda0",
   "metadata": {},
   "outputs": [],
   "source": [
    "z_score, z_probs, z_results = fitter.get_fit_results(z_emb_multi, zdf['Label'], d_emb_multi, ddf_gold['Label'])"
   ]
  },
  {
   "cell_type": "code",
   "execution_count": null,
   "id": "b69e8b14",
   "metadata": {},
   "outputs": [],
   "source": [
    "z_score"
   ]
  },
  {
   "cell_type": "code",
   "execution_count": null,
   "id": "7c50b1d9",
   "metadata": {},
   "outputs": [],
   "source": [
    "dres = fitter.add_results(ddf, z_results, ddf_gold)"
   ]
  },
  {
   "cell_type": "code",
   "execution_count": null,
   "id": "d4b80112",
   "metadata": {},
   "outputs": [],
   "source": [
    "dres"
   ]
  },
  {
   "cell_type": "code",
   "execution_count": null,
   "id": "d28c3054",
   "metadata": {},
   "outputs": [],
   "source": [
    "dres_counts = util.get_counts(dres)"
   ]
  },
  {
   "cell_type": "markdown",
   "id": "80d83b73",
   "metadata": {},
   "source": [
    "Show the MWEs that the model gets wrong more than half of the time. Are there any patterns?"
   ]
  },
  {
   "cell_type": "code",
   "execution_count": null,
   "id": "8f41f54c",
   "metadata": {},
   "outputs": [],
   "source": [
    "dres_counts[dres_counts['Pct correct'] < 0.5].sort_values(by=['Language','MWE'])"
   ]
  },
  {
   "cell_type": "markdown",
   "id": "541a7a81",
   "metadata": {},
   "source": [
    "### Mask filling\n",
    "\n",
    "Get several features based on mask-filling pipeline.\n",
    "\n",
    "Rationale: It should be more difficult to get mask filling to work when the MWE is idiomatic.\n",
    "\n",
    "There are three ways to do mask filling for the MWE:\n",
    "- replace the whole expression: banana republic -\\> \\<mask\\>\n",
    "- replace the first term: \\<mask\\> republic\n",
    "- replace the second term: banana \\<mask\\>\n",
    "\n",
    "The mask filling generates several features:\n",
    "- Hassub: whether a top-5 term is found in the MWE (exactly)\n",
    "- Top score: the confidence score of the top term\n",
    "- Short/FS/SS: Amount of \"Short\" terms (less than three characters) in whole mask vs first term replacement vs second term replacement, respectively\n",
    "\n",
    "Additionally, the top terms are recorded into Top score columns.\n",
    "\n",
    "The Top score is only recorded for an \"acceptable\" term (at least three characters and no non-word characters) "
   ]
  },
  {
   "cell_type": "code",
   "execution_count": null,
   "id": "727cbec9",
   "metadata": {},
   "outputs": [],
   "source": [
    "zdf_masked = masker.get_masked_features(zdf)"
   ]
  },
  {
   "cell_type": "code",
   "execution_count": null,
   "id": "cfb7a0e4",
   "metadata": {},
   "outputs": [],
   "source": [
    "zdf_masked.groupby(['Language','Label','Hassub'])['DataID'].count()"
   ]
  },
  {
   "cell_type": "code",
   "execution_count": null,
   "id": "ac714926",
   "metadata": {},
   "outputs": [],
   "source": [
    "ddf_masked = masker.get_masked_features(ddf)"
   ]
  },
  {
   "cell_type": "code",
   "execution_count": null,
   "id": "69efbc3e",
   "metadata": {},
   "outputs": [],
   "source": [
    "ddf_masked[ddf_masked['Hassub'] == False][535:600]"
   ]
  },
  {
   "cell_type": "code",
   "execution_count": null,
   "id": "4f1e1c9b",
   "metadata": {},
   "outputs": [],
   "source": [
    "ddf_masked.groupby(['Language','Hassub'])['ID'].count()"
   ]
  },
  {
   "cell_type": "code",
   "execution_count": null,
   "id": "17318b4a",
   "metadata": {},
   "outputs": [],
   "source": [
    "str_prob = 'Além de ter sido um fracasso de bilheteria e crítica, o filme acabou marcado pelos seus efeitos especiais, principalmente ao antropomorfizar os gatos, que, bem, ficam um pouco bisonhos.'\n",
    "str_prob_2 = 'Professor livre docente da Unesp, Fortaleza é presidente da Sociedade Paulista de Infectologia e membro do Comitê de Contingência da COVID-19, do Governo do Estado de São Paulo.'\n",
    "str_prob_3 = 'Com a segurança da imunização em massa e os números traduzindo sua eficácia, fica mais fácil para o americano médio sentir-se confiante em marcar sua próxima viagem, gerando um circulo virtuoso para o setor nos próximos meses.'\n"
   ]
  },
  {
   "cell_type": "code",
   "execution_count": null,
   "id": "931e2a71",
   "metadata": {},
   "outputs": [],
   "source": [
    "masker.replacer2(str_prob_3, 'círculo virtuoso', '<mask>', ' ')"
   ]
  },
  {
   "cell_type": "code",
   "execution_count": null,
   "id": "394f8568",
   "metadata": {},
   "outputs": [],
   "source": [
    "masker.replacer2(str_prob, 'efeito especial', 'efeito <mask>', ' ')"
   ]
  },
  {
   "cell_type": "code",
   "execution_count": null,
   "id": "828f566d",
   "metadata": {},
   "outputs": [],
   "source": [
    "masker.replace_mask_token(str_prob_2, 'livre-docente', 'livre-<mask>')"
   ]
  },
  {
   "cell_type": "code",
   "execution_count": null,
   "id": "1b31fc90",
   "metadata": {},
   "outputs": [],
   "source": [
    "masker.replace_mask_token(str_prob, 'efeito especial', 'efeito <mask>', '<mask>')"
   ]
  },
  {
   "cell_type": "code",
   "execution_count": null,
   "id": "2c94022d",
   "metadata": {},
   "outputs": [],
   "source": [
    "masker.replace_mask_token(str_prob, 'efeito especial', '<mask>')"
   ]
  },
  {
   "cell_type": "markdown",
   "id": "570b9c15",
   "metadata": {},
   "source": [
    "### Boolean features\n",
    "\n",
    "Get features: Caps and Quotes.\n",
    "\n",
    "Rationale:\n",
    "- MWEs in Caps (Banana Republic vs banana republic) are more likely to be a proper noun (PN)\n",
    "- Quoted MWEs are more likely to be idiomatic"
   ]
  },
  {
   "cell_type": "code",
   "execution_count": null,
   "id": "ced9dcae",
   "metadata": {},
   "outputs": [],
   "source": [
    "zdf_masked_feats = features.get_features(zdf_masked)"
   ]
  },
  {
   "cell_type": "code",
   "execution_count": null,
   "id": "9dde8d8f",
   "metadata": {},
   "outputs": [],
   "source": [
    "zdf_masked_feats.groupby(['Language','Label','Caps'])['DataID'].count()"
   ]
  },
  {
   "cell_type": "code",
   "execution_count": null,
   "id": "ceb04589",
   "metadata": {},
   "outputs": [],
   "source": [
    "ddf_masked_feats = features.get_features(ddf_masked)"
   ]
  },
  {
   "cell_type": "code",
   "execution_count": null,
   "id": "3e0ff475",
   "metadata": {},
   "outputs": [],
   "source": [
    "# dir(sentiment)"
   ]
  },
  {
   "cell_type": "markdown",
   "id": "21b3b295",
   "metadata": {},
   "source": [
    "### Sentiment classifier\n",
    "\n",
    "Rationale: idiomatic expressions are more likely to be affective (positive or negative).\n",
    "\n",
    "Neutral sentiment probability is used as a proxy for literality."
   ]
  },
  {
   "cell_type": "code",
   "execution_count": null,
   "id": "39c9bd2f",
   "metadata": {},
   "outputs": [],
   "source": [
    "sentiment_classifier, sentiment_tokenizer, sentiment_config = sentiment.get_classifier_tokenizer()"
   ]
  },
  {
   "cell_type": "code",
   "execution_count": null,
   "id": "edafad08",
   "metadata": {},
   "outputs": [],
   "source": [
    "sentiment.get_sentiment(ddf_masked_feats['Target'].values[0], sentiment_classifier, sentiment_tokenizer, sentiment_config)"
   ]
  },
  {
   "cell_type": "code",
   "execution_count": null,
   "id": "af6654f4",
   "metadata": {},
   "outputs": [],
   "source": [
    "ddf_masked_feats_sent = sentiment.get_df_sentiments(ddf_masked_feats, sentiment_classifier, sentiment_tokenizer, sentiment_config)"
   ]
  },
  {
   "cell_type": "code",
   "execution_count": null,
   "id": "3dcf7d9a",
   "metadata": {},
   "outputs": [],
   "source": [
    "zdf_masked_feats_sent = sentiment.get_df_sentiments(zdf_masked_feats, sentiment_classifier, sentiment_tokenizer, sentiment_config)"
   ]
  },
  {
   "cell_type": "code",
   "execution_count": null,
   "id": "ce2011a1",
   "metadata": {},
   "outputs": [],
   "source": [
    "zdf_masked_feats_sent[zdf_masked_feats_sent['Label'] == '0'].mean()"
   ]
  },
  {
   "cell_type": "code",
   "execution_count": null,
   "id": "1392fd72",
   "metadata": {},
   "outputs": [],
   "source": [
    "zdf_masked_feats_sent[zdf_masked_feats_sent['Label'] == '1'].mean()"
   ]
  },
  {
   "cell_type": "code",
   "execution_count": null,
   "id": "825a402f",
   "metadata": {},
   "outputs": [],
   "source": [
    "btmodel1, btmodel2, bttoken1, bttoken2 = translate.get_marian_models()"
   ]
  },
  {
   "cell_type": "markdown",
   "id": "f8d612b3",
   "metadata": {},
   "source": [
    "### Backtranslation\n",
    "\n",
    "Translate text from English to Portuguese and back (and vice versa if the source language is Portuguese).\n",
    "\n",
    "Rationale: the expression is more likely to be idiomatic if it is not found from the backtranslation."
   ]
  },
  {
   "cell_type": "code",
   "execution_count": null,
   "id": "0a122148",
   "metadata": {},
   "outputs": [],
   "source": [
    "zdf_bt = translate.backtranslate(zdf_masked_feats_sent, btmodel1, btmodel2, bttoken1, bttoken2, batch_len=10)"
   ]
  },
  {
   "cell_type": "code",
   "execution_count": null,
   "id": "3cb9a62f",
   "metadata": {},
   "outputs": [],
   "source": [
    "ddf_bt = translate.backtranslate(ddf_masked_feats_sent, btmodel1, btmodel2, bttoken1, bttoken2)"
   ]
  },
  {
   "cell_type": "code",
   "execution_count": null,
   "id": "6fcf9be0",
   "metadata": {},
   "outputs": [],
   "source": [
    "# FIXME: Previous/next/target code\n",
    "# FIXME: Combined classifier: get_trainable, multi_results functions\n",
    "# FIXME: Save results to disk"
   ]
  },
  {
   "cell_type": "code",
   "execution_count": null,
   "id": "1ac72258",
   "metadata": {},
   "outputs": [],
   "source": []
  }
 ],
 "metadata": {
  "kernelspec": {
   "display_name": "Python 3 (ipykernel)",
   "language": "python",
   "name": "python3"
  },
  "language_info": {
   "codemirror_mode": {
    "name": "ipython",
    "version": 3
   },
   "file_extension": ".py",
   "mimetype": "text/x-python",
   "name": "python",
   "nbconvert_exporter": "python",
   "pygments_lexer": "ipython3",
   "version": "3.8.2"
  }
 },
 "nbformat": 4,
 "nbformat_minor": 5
}
