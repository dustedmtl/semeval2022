{
 "cells": [
  {
   "cell_type": "code",
   "execution_count": null,
   "id": "66c3b5ef",
   "metadata": {},
   "outputs": [],
   "source": [
    "%load_ext autoreload\n",
    "%autoreload 2"
   ]
  },
  {
   "cell_type": "code",
   "execution_count": null,
   "id": "92e1e464",
   "metadata": {},
   "outputs": [],
   "source": [
    "from IPython.core.display import display, HTML\n",
    "display(HTML(\"<style>.container { width: 98% !important; }</style>\"))\n",
    "import pandas as pd\n",
    "pd.set_option('display.max_colwidth', None)"
   ]
  },
  {
   "cell_type": "code",
   "execution_count": null,
   "id": "dce51d8a",
   "metadata": {},
   "outputs": [],
   "source": [
    "import sys\n",
    "import os\n",
    "import re\n",
    "import numpy as np\n",
    "import pandas as pd\n",
    "\n",
    "from tqdm.notebook import tqdm\n",
    "from sklearn.metrics import f1_score, confusion_matrix"
   ]
  },
  {
   "cell_type": "code",
   "execution_count": null,
   "id": "a151d91a",
   "metadata": {},
   "outputs": [],
   "source": [
    "import seaborn as sns\n",
    "import matplotlib.pyplot as plt"
   ]
  },
  {
   "cell_type": "code",
   "execution_count": null,
   "id": "36896267",
   "metadata": {},
   "outputs": [],
   "source": [
    "sns.set()"
   ]
  },
  {
   "cell_type": "code",
   "execution_count": null,
   "id": "44b9f1b3",
   "metadata": {},
   "outputs": [],
   "source": [
    "from lib import util, fitter, visualize"
   ]
  },
  {
   "cell_type": "code",
   "execution_count": null,
   "id": "8b066f2c",
   "metadata": {},
   "outputs": [],
   "source": [
    "datapath = 'SemEval_2022_Task2-idiomaticity/SubTaskA/Data'\n",
    "testpath = 'SemEval_2022_Task2-idiomaticity/SubTaskA/TestData'"
   ]
  },
  {
   "cell_type": "code",
   "execution_count": null,
   "id": "0be38953",
   "metadata": {},
   "outputs": [],
   "source": [
    "frames = util.load_csv_dataframes(datapath)\n",
    "tframes = util.load_csv_dataframes(testpath)"
   ]
  },
  {
   "cell_type": "code",
   "execution_count": null,
   "id": "4846dda7",
   "metadata": {},
   "outputs": [],
   "source": [
    "zdf = frames['train_zero_shot.csv']\n",
    "odf = frames['train_one_shot.csv']\n",
    "ddf = frames['dev.csv']\n",
    "ddf_gold = frames['dev_gold.csv']\n",
    "edf = frames['eval.csv']\n",
    "tdf = tframes['test.csv']"
   ]
  },
  {
   "cell_type": "code",
   "execution_count": null,
   "id": "ece5a66b",
   "metadata": {},
   "outputs": [],
   "source": [
    "zdf_bt3 = pd.read_pickle('data/zdf_bt3_20220104_1.pkl')\n",
    "ddf_bt3 = pd.read_pickle('data/ddf_bt3_20220104_1.pkl')\n",
    "edf_bt3 = pd.read_pickle('data/edf_bt3_20220105_1.pkl')\n",
    "tdf_bt3 = pd.read_pickle('data/tdf_bt3_20220111_1.pkl')"
   ]
  },
  {
   "cell_type": "code",
   "execution_count": null,
   "id": "5580ce55",
   "metadata": {},
   "outputs": [],
   "source": [
    "zdf_t = fitter.get_trainable(zdf_bt3)\n",
    "ddf_t = fitter.get_trainable(ddf_bt3)\n",
    "zdf_t['Label'] = zdf_bt3['Label']\n",
    "ddf_t['Label'] = ddf_gold['Label']\n",
    "zdf_t['Set'] = 'Train'\n",
    "ddf_t['Set'] = 'Dev'"
   ]
  },
  {
   "cell_type": "code",
   "execution_count": null,
   "id": "4c2e8f92",
   "metadata": {},
   "outputs": [],
   "source": [
    "pairplot = sns.pairplot(zdf_t.drop(['Quotes', 'Hassub', 'Caps', 'Trans'], axis=1), hue='Label')"
   ]
  },
  {
   "cell_type": "code",
   "execution_count": null,
   "id": "14e192fa",
   "metadata": {},
   "outputs": [],
   "source": [
    "zdf_bt3.groupby(['Language','Label'])['DataID'].count()"
   ]
  },
  {
   "cell_type": "code",
   "execution_count": null,
   "id": "afee5b63",
   "metadata": {},
   "outputs": [],
   "source": [
    "fig, axes = plt.subplots(1, 4, figsize=(20,5))\n",
    "sns.boxplot(ax=axes[0], data=zdf_t, y='Sentiment', hue='Label', x=zdf_bt3['Language'])\n",
    "sns.boxplot(ax=axes[1], data=zdf_t, y='Nextdiff', hue='Label', x=zdf_bt3['Language'])\n",
    "sns.boxplot(ax=axes[2], data=zdf_t, y='Prevdiff', hue='Label', x=zdf_bt3['Language'])\n",
    "sns.boxplot(ax=axes[3], data=zdf_t, y='MWEdiff', hue='Label', x=zdf_bt3['Language'])"
   ]
  },
  {
   "cell_type": "code",
   "execution_count": null,
   "id": "fb49f54d",
   "metadata": {},
   "outputs": [],
   "source": [
    "fig2, axes2 = plt.subplots(1, 3, figsize=(15,5))\n",
    "sns.boxplot(ax=axes2[0], data=zdf_t, y='Top score', hue='Label', x=zdf_bt3['Language'])\n",
    "sns.boxplot(ax=axes2[1], data=zdf_t, y='Top score 1', hue='Label', x=zdf_bt3['Language'])\n",
    "sns.boxplot(ax=axes2[2], data=zdf_t, y='Top score 2', hue='Label', x=zdf_bt3['Language'])\n",
    "# sns.boxplot(ax=axes2[3], data=zdf_t, y='FoundScore', hue='Label', x=zdf_bt3['Language'])"
   ]
  },
  {
   "cell_type": "code",
   "execution_count": null,
   "id": "793eb3a1",
   "metadata": {},
   "outputs": [],
   "source": [
    "comb_t = pd.concat([zdf_t, ddf_t], ignore_index=True)\n",
    "comb_bt3 = pd.concat([zdf_bt3, ddf_bt3], ignore_index=True)"
   ]
  },
  {
   "cell_type": "code",
   "execution_count": null,
   "id": "c86f3dff",
   "metadata": {},
   "outputs": [],
   "source": [
    "fig3, axes3 = plt.subplots(1, 2, figsize=(10,5))\n",
    "sns.boxplot(ax=axes3[0], data=comb_t, y='Sentiment', x='Label', hue='Set')\n",
    "sns.boxplot(ax=axes3[1], data=comb_t, y='Sentiment', hue='Set', x=comb_bt3['Language'])\n",
    "# sns.boxplot(ax=axes3[2], data=comb_t, y='Sentiment', x=comb_bt3['Language'], hue='Label')"
   ]
  },
  {
   "cell_type": "code",
   "execution_count": null,
   "id": "4a617ed5",
   "metadata": {},
   "outputs": [],
   "source": [
    "fig4, axes4 = plt.subplots(3, 4, sharex=True, figsize=(20,15))\n",
    "row=0\n",
    "col=0\n",
    "for column in zdf_t.drop(['Label', 'Hassub', 'Caps', 'Quotes', 'Trans', 'Set'], axis=1):\n",
    "    # print(row,col)\n",
    "    sns.boxplot(ax=axes4[row, col], y=zdf_t[column], hue=zdf_t['Label'], x=zdf_bt3['Language'])\n",
    "    col += 1\n",
    "    if col >= axes4.shape[1]:\n",
    "        row += 1\n",
    "        col = 0"
   ]
  },
  {
   "cell_type": "code",
   "execution_count": null,
   "id": "b6a98f4c",
   "metadata": {},
   "outputs": [],
   "source": [
    "fig5, axes5 = plt.subplots(3, 4, figsize=(20,15))\n",
    "row=0\n",
    "col=0\n",
    "for column in comb_t.drop(['Label', 'Hassub', 'Caps', 'Quotes', 'Trans', 'Set'], axis=1):\n",
    "    # print(row,col)\n",
    "    sns.boxplot(ax=axes5[row, col], y=comb_t[column], hue=comb_t['Label'], x=comb_t['Set'])\n",
    "    col += 1\n",
    "    if col >= axes5.shape[1]:\n",
    "        row += 1\n",
    "        col = 0"
   ]
  },
  {
   "cell_type": "code",
   "execution_count": null,
   "id": "11f1c20d",
   "metadata": {},
   "outputs": [],
   "source": [
    "sns.jointplot(data=zdf_bt3, x='Sentiment', y='Top score', hue='Label')"
   ]
  },
  {
   "cell_type": "code",
   "execution_count": null,
   "id": "9ee732f2",
   "metadata": {},
   "outputs": [],
   "source": [
    "fig6, axes6 = plt.subplots(1, 4, figsize=(20,4))\n",
    "sns.countplot(ax=axes6[0], data=zdf_bt3, x='Hassub', hue='Label')\n",
    "sns.countplot(ax=axes6[1], data=zdf_bt3, x='Quotes', hue='Label')\n",
    "sns.countplot(ax=axes6[2], data=zdf_bt3, x='Caps', hue='Label')\n",
    "sns.countplot(ax=axes6[3], data=zdf_bt3, x='Trans', hue='Label')\n",
    "fig7, axes7 = plt.subplots(1, 4, figsize=(20,4))\n",
    "sns.countplot(ax=axes7[0], data=zdf_bt3[zdf_bt3['Language'] == 'EN'], x='Hassub', hue='Label')\n",
    "sns.countplot(ax=axes7[1], data=zdf_bt3[zdf_bt3['Language'] == 'EN'], x='Quotes', hue='Label')\n",
    "sns.countplot(ax=axes7[2], data=zdf_bt3[zdf_bt3['Language'] == 'EN'], x='Caps', hue='Label')\n",
    "sns.countplot(ax=axes7[3], data=zdf_bt3[zdf_bt3['Language'] == 'EN'], x='Trans', hue='Label')\n",
    "fig8, axes8 = plt.subplots(1, 4, figsize=(20,4))\n",
    "sns.countplot(ax=axes8[0], data=zdf_bt3[zdf_bt3['Language'] == 'PT'], x='Hassub', hue='Label', hue_order=['0','1'])\n",
    "sns.countplot(ax=axes8[1], data=zdf_bt3[zdf_bt3['Language'] == 'PT'], x='Quotes', hue='Label', hue_order=['0','1'])\n",
    "sns.countplot(ax=axes8[2], data=zdf_bt3[zdf_bt3['Language'] == 'PT'], x='Caps', hue='Label', hue_order=['0','1'])\n",
    "sns.countplot(ax=axes8[3], data=zdf_bt3[zdf_bt3['Language'] == 'PT'], x='Trans', hue='Label', hue_order=['0','1'])\n",
    "# FIXME: add horizontal labels (Top: Both, Middle: English, Bottom: Portuguese)"
   ]
  },
  {
   "cell_type": "code",
   "execution_count": null,
   "id": "45eebec4",
   "metadata": {},
   "outputs": [],
   "source": [
    "fig9, axes9 = plt.subplots(3, 4, figsize=(20,15))\n",
    "row=0\n",
    "col=0\n",
    "for column in zdf_t.drop(['Label', 'Hassub', 'Caps', 'Quotes', 'Trans', 'Set'], axis=1):\n",
    "    # print(row,col)\n",
    "    sns.violinplot(ax=axes9[row, col], y=zdf_t[column], hue=zdf_t['Label'], x=zdf_bt3['Language'], split=True)\n",
    "    col += 1\n",
    "    if col >= axes9.shape[1]:\n",
    "        row += 1\n",
    "        col = 0"
   ]
  },
  {
   "cell_type": "code",
   "execution_count": null,
   "id": "9c4a0731",
   "metadata": {},
   "outputs": [],
   "source": [
    "fig10, axes10 = plt.subplots(1, 4, figsize=(20,4))\n",
    "sns.countplot(ax=axes10[0], data=zdf_bt3, hue='Hassub', x='Label')\n",
    "sns.countplot(ax=axes10[1], data=zdf_bt3, hue='Quotes', x='Label')\n",
    "sns.countplot(ax=axes10[2], data=zdf_bt3, hue='Caps', x='Label')\n",
    "sns.countplot(ax=axes10[3], data=zdf_bt3, hue='Trans', x='Label')\n",
    "fig11, axes11 = plt.subplots(1, 4, figsize=(20,4))\n",
    "sns.countplot(ax=axes11[0], data=zdf_bt3[zdf_bt3['Language'] == 'EN'], hue='Hassub', x='Label')\n",
    "sns.countplot(ax=axes11[1], data=zdf_bt3[zdf_bt3['Language'] == 'EN'], hue='Quotes', x='Label')\n",
    "sns.countplot(ax=axes11[2], data=zdf_bt3[zdf_bt3['Language'] == 'EN'], hue='Caps', x='Label')\n",
    "sns.countplot(ax=axes11[3], data=zdf_bt3[zdf_bt3['Language'] == 'EN'], hue='Trans', x='Label')\n",
    "fig12, axes12 = plt.subplots(1, 4, figsize=(20,4))\n",
    "sns.countplot(ax=axes12[0], data=zdf_bt3[zdf_bt3['Language'] == 'PT'], hue='Hassub', x='Label', order=['0','1'])\n",
    "sns.countplot(ax=axes12[1], data=zdf_bt3[zdf_bt3['Language'] == 'PT'], hue='Quotes', x='Label', order=['0','1'])\n",
    "sns.countplot(ax=axes12[2], data=zdf_bt3[zdf_bt3['Language'] == 'PT'], hue='Caps', x='Label', order=['0', '1'])\n",
    "sns.countplot(ax=axes12[3], data=zdf_bt3[zdf_bt3['Language'] == 'PT'], hue='Trans', x='Label', order=['0', '1'])"
   ]
  },
  {
   "cell_type": "code",
   "execution_count": null,
   "id": "5dd7bf1a",
   "metadata": {},
   "outputs": [],
   "source": [
    "fig11, axes11 = plt.subplots(1, 2, figsize=(8,4))\n",
    "sns.kdeplot(ax=axes11[0],data=zdf_bt3[zdf_bt3['Language'] == 'EN'], hue='Label', x='Sentiment', fill=True)\n",
    "sns.kdeplot(ax=axes11[1],data=zdf_bt3[zdf_bt3['Language'] == 'PT'], hue='Label', x='Sentiment', fill=True)"
   ]
  },
  {
   "cell_type": "code",
   "execution_count": null,
   "id": "10a8b274",
   "metadata": {},
   "outputs": [],
   "source": [
    "heatmap_z = sns.clustermap(zdf_t.corr(), cbar_pos=(.1, .5, .03, .2), cmap=\"Blues\")\n",
    "heatmap_z.ax_row_dendrogram.remove()"
   ]
  },
  {
   "cell_type": "code",
   "execution_count": null,
   "id": "aba812cf",
   "metadata": {},
   "outputs": [],
   "source": [
    "cf = pd.crosstab(zdf_bt3['Trans'], zdf_bt3['Label'])\n",
    "sns.heatmap(cf, annot=True, cmap='Blues', fmt='d')"
   ]
  },
  {
   "cell_type": "code",
   "execution_count": null,
   "id": "1d4636bf",
   "metadata": {},
   "outputs": [],
   "source": [
    "ddf_res = util.load_df('data/ddf_sub_20220121_1.csv')\n",
    "ddf_res2 = util.load_df('data/ddf_sub_20220121_2.csv')"
   ]
  },
  {
   "cell_type": "code",
   "execution_count": null,
   "id": "6065fbf9",
   "metadata": {},
   "outputs": [],
   "source": [
    "ddf_pred_labels = ddf_res[ddf_res['Setting'] == 'zero_shot']['Label']\n",
    "ddf_cf = confusion_matrix(ddf_pred_labels, ddf_gold['Label'])\n",
    "cfax1 = sns.heatmap(ddf_cf, annot=True, cmap='Blues', fmt='d')\n",
    "cfax1.set(ylabel='Actual label', xlabel='Predicted label')"
   ]
  },
  {
   "cell_type": "markdown",
   "id": "7da15dd1",
   "metadata": {},
   "source": [
    "Confusion matrix for the sbert+feature model."
   ]
  },
  {
   "cell_type": "code",
   "execution_count": null,
   "id": "bc268bbb",
   "metadata": {},
   "outputs": [],
   "source": [
    "ddf_pred_labels2 = ddf_res2[ddf_res2['Setting'] == 'zero_shot']['Label']\n",
    "ddf_cf2 = confusion_matrix(ddf_pred_labels2, ddf_gold['Label'])\n",
    "counts2 = [ v for v in ddf_cf2.flatten() ]\n",
    "pct2 = [ v for v in ddf_cf2.flatten()/np.sum(ddf_cf2) ]\n",
    "labels2 = [ \"%s\\n%.1f%%\" % (v1,100*v2) for v1, v2 in zip(counts2, pct2) ]\n",
    "labels2 = np.asarray(labels2).reshape(2,2)\n",
    "cfax2 = sns.heatmap(ddf_cf2, annot=labels2, cmap='Blues', fmt='')\n",
    "cfax2.set(ylabel='Actual label', xlabel='Predicted label')"
   ]
  },
  {
   "cell_type": "markdown",
   "id": "689c2abd",
   "metadata": {},
   "source": [
    "Confusion matrix for the bert+feature model."
   ]
  },
  {
   "cell_type": "code",
   "execution_count": null,
   "id": "08c911fb",
   "metadata": {},
   "outputs": [],
   "source": [
    "ddf_pred_labels3 = ddf_res2[(ddf_res2['Setting'] == 'zero_shot') & (ddf_bt3['Language'] == 'EN')]['Label']\n",
    "ddf_cf3 = confusion_matrix(ddf_pred_labels3, ddf_gold[ddf_gold['Language'] == 'EN']['Label'])\n",
    "counts3 = [ v for v in ddf_cf3.flatten() ]\n",
    "pct3 = [ v for v in ddf_cf3.flatten()/np.sum(ddf_cf3) ]\n",
    "labels3 = [ \"%s\\n%.1f%%\" % (v1,100*v2) for v1, v2 in zip(counts3, pct3) ]\n",
    "labels3 = np.asarray(labels3).reshape(2,2)\n",
    "cfax3 = sns.heatmap(ddf_cf3, annot=labels3, cmap='Blues', fmt='')\n",
    "cfax3.set(ylabel='Actual label', xlabel='Predicted label')"
   ]
  },
  {
   "cell_type": "markdown",
   "id": "707011cb",
   "metadata": {},
   "source": [
    "Confusion matrix for the bert+feature model, English."
   ]
  },
  {
   "cell_type": "code",
   "execution_count": null,
   "id": "71cd4108",
   "metadata": {},
   "outputs": [],
   "source": [
    "ddf_pred_labels4 = ddf_res2[(ddf_res2['Setting'] == 'zero_shot') & (ddf_bt3['Language'] == 'PT')]['Label']\n",
    "ddf_cf4 = confusion_matrix(ddf_pred_labels4, ddf_gold[ddf_gold['Language'] == 'PT']['Label'])\n",
    "counts4 = [ v for v in ddf_cf4.flatten() ]\n",
    "pct4 = [ v for v in ddf_cf4.flatten()/np.sum(ddf_cf4) ]\n",
    "labels4 = [ \"%s\\n%.1f%%\" % (v1,100*v2) for v1, v2 in zip(counts4, pct4) ]\n",
    "labels4 = np.asarray(labels4).reshape(2,2)\n",
    "cfax4 = sns.heatmap(ddf_cf4, annot=labels4, cmap='Blues', fmt='')\n",
    "cfax4.set(ylabel='Actual label', xlabel='Predicted label')"
   ]
  },
  {
   "cell_type": "code",
   "execution_count": null,
   "id": "46ff4a28",
   "metadata": {},
   "outputs": [],
   "source": []
  }
 ],
 "metadata": {
  "kernelspec": {
   "display_name": "Python 3 (ipykernel)",
   "language": "python",
   "name": "python3"
  },
  "language_info": {
   "codemirror_mode": {
    "name": "ipython",
    "version": 3
   },
   "file_extension": ".py",
   "mimetype": "text/x-python",
   "name": "python",
   "nbconvert_exporter": "python",
   "pygments_lexer": "ipython3",
   "version": "3.8.2"
  }
 },
 "nbformat": 4,
 "nbformat_minor": 5
}
