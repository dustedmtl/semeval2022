{
 "cells": [
  {
   "cell_type": "code",
   "execution_count": null,
   "id": "b52912a8",
   "metadata": {},
   "outputs": [],
   "source": [
    "%load_ext autoreload\n",
    "%autoreload 2"
   ]
  },
  {
   "cell_type": "code",
   "execution_count": null,
   "id": "b90b6453",
   "metadata": {},
   "outputs": [],
   "source": [
    "from IPython.core.display import display, HTML\n",
    "display(HTML(\"<style>.container { width: 98% !important; }</style>\"))\n",
    "import pandas as pd\n",
    "pd.set_option('display.max_colwidth', None)"
   ]
  },
  {
   "cell_type": "code",
   "execution_count": null,
   "id": "433d4e42",
   "metadata": {},
   "outputs": [],
   "source": [
    "from typing import List, Optional"
   ]
  },
  {
   "cell_type": "code",
   "execution_count": null,
   "id": "65e6564a",
   "metadata": {},
   "outputs": [],
   "source": [
    "import sys\n",
    "import os\n",
    "import re\n",
    "import numpy as np\n",
    "import pandas as pd\n",
    "\n",
    "from tqdm.notebook import tqdm\n",
    "from sklearn.metrics import f1_score, confusion_matrix"
   ]
  },
  {
   "cell_type": "code",
   "execution_count": null,
   "id": "a203be1f",
   "metadata": {},
   "outputs": [],
   "source": [
    "import seaborn as sns\n",
    "import matplotlib.pyplot as plt"
   ]
  },
  {
   "cell_type": "code",
   "execution_count": null,
   "id": "b9a46dd7",
   "metadata": {},
   "outputs": [],
   "source": [
    "sns.set(font_scale=1.2)"
   ]
  },
  {
   "cell_type": "code",
   "execution_count": null,
   "id": "8b850c04",
   "metadata": {},
   "outputs": [],
   "source": [
    "from lib import util, fitter, visualize"
   ]
  },
  {
   "cell_type": "code",
   "execution_count": null,
   "id": "addae5ec",
   "metadata": {},
   "outputs": [],
   "source": [
    "datapath = 'SemEval_2022_Task2-idiomaticity/SubTaskA/Data'\n",
    "testpath = 'SemEval_2022_Task2-idiomaticity/SubTaskA/TestData'"
   ]
  },
  {
   "cell_type": "code",
   "execution_count": null,
   "id": "23ea25eb",
   "metadata": {},
   "outputs": [],
   "source": [
    "frames = util.load_csv_dataframes(datapath)\n",
    "tframes = util.load_csv_dataframes(testpath)"
   ]
  },
  {
   "cell_type": "code",
   "execution_count": null,
   "id": "9b18f851",
   "metadata": {},
   "outputs": [],
   "source": [
    "zdf = frames['train_zero_shot.csv']\n",
    "odf = frames['train_one_shot.csv']\n",
    "ddf = frames['dev.csv']\n",
    "ddf_gold = frames['dev_gold.csv']\n",
    "edf = frames['eval.csv']\n",
    "tdf = tframes['test.csv']"
   ]
  },
  {
   "cell_type": "code",
   "execution_count": null,
   "id": "bbc8ac5e",
   "metadata": {},
   "outputs": [],
   "source": [
    "zdf_bt3 = pd.read_pickle('data/zdf_bt3_20220104_1.pkl')\n",
    "ddf_bt3 = pd.read_pickle('data/ddf_bt3_20220104_1.pkl')\n",
    "edf_bt3 = pd.read_pickle('data/edf_bt3_20220105_1.pkl')\n",
    "tdf_bt3 = pd.read_pickle('data/tdf_bt3_20220111_1.pkl')"
   ]
  },
  {
   "cell_type": "code",
   "execution_count": null,
   "id": "964e9a76",
   "metadata": {},
   "outputs": [],
   "source": [
    "zdf_t = fitter.get_trainable(zdf_bt3)\n",
    "ddf_t = fitter.get_trainable(ddf_bt3)\n",
    "zdf_t['Label'] = zdf_bt3['Label']\n",
    "ddf_t['Label'] = ddf_gold['Label']\n",
    "zdf_t['Set'] = 'Train'\n",
    "ddf_t['Set'] = 'Dev'"
   ]
  },
  {
   "cell_type": "code",
   "execution_count": null,
   "id": "a9e67e02",
   "metadata": {},
   "outputs": [],
   "source": [
    "# pairplot = sns.pairplot(zdf_t.drop(['Quotes', 'Hassub', 'Caps', 'Trans'], axis=1), hue='Label')"
   ]
  },
  {
   "cell_type": "markdown",
   "id": "c7b3b673",
   "metadata": {},
   "source": [
    "##### Let's get some statistics"
   ]
  },
  {
   "cell_type": "code",
   "execution_count": null,
   "id": "56db4d48",
   "metadata": {},
   "outputs": [],
   "source": [
    "zdf_bt3.groupby(['Language','Label'])['DataID'].count()"
   ]
  },
  {
   "cell_type": "code",
   "execution_count": null,
   "id": "430244ee",
   "metadata": {},
   "outputs": [],
   "source": [
    "zdf_bt3.groupby(['Language','Label'])['DataID'].count()/len(zdf_bt3)"
   ]
  },
  {
   "cell_type": "markdown",
   "id": "0c44e4a9",
   "metadata": {},
   "source": [
    "Visualizing class distribution per language for training and dev sets."
   ]
  },
  {
   "cell_type": "code",
   "execution_count": null,
   "id": "f1175b67",
   "metadata": {},
   "outputs": [],
   "source": [
    "zdf_counts = visualize.df_heatmap(zdf, zdf, col='Language')\n",
    "zdf_counts.set_xlabel('Label', fontsize=16)\n",
    "zdf_counts.set_ylabel('Language', fontsize=16)"
   ]
  },
  {
   "cell_type": "code",
   "execution_count": null,
   "id": "f85f8685",
   "metadata": {},
   "outputs": [],
   "source": [
    "# util.save_picture(zdf_counts.figure, name='train_counts')"
   ]
  },
  {
   "cell_type": "code",
   "execution_count": null,
   "id": "b745a26e",
   "metadata": {},
   "outputs": [],
   "source": [
    "ddf_gold.groupby(['Language','Label'])['DataID'].count()"
   ]
  },
  {
   "cell_type": "code",
   "execution_count": null,
   "id": "8adca4e0",
   "metadata": {},
   "outputs": [],
   "source": [
    "ddf_counts = visualize.df_heatmap(ddf, ddf_gold, col='Language')\n",
    "ddf_counts.set_xlabel('Label', fontsize=16)\n",
    "ddf_counts.set_ylabel('Language', fontsize=16)"
   ]
  },
  {
   "cell_type": "code",
   "execution_count": null,
   "id": "f6fd9177",
   "metadata": {},
   "outputs": [],
   "source": [
    "# util.save_picture(ddf_counts.figure, name='dev_counts')"
   ]
  },
  {
   "cell_type": "code",
   "execution_count": null,
   "id": "cf74767f",
   "metadata": {},
   "outputs": [],
   "source": [
    "ddf_res = util.load_df('data/ddf_sub_20220121_1.csv')\n",
    "ddf_res2 = util.load_df('data/ddf_sub_20220121_2.csv')"
   ]
  },
  {
   "cell_type": "markdown",
   "id": "995e0dd0",
   "metadata": {},
   "source": [
    "Confusion matrix for the sbert+feature model."
   ]
  },
  {
   "cell_type": "code",
   "execution_count": null,
   "id": "66ad5683",
   "metadata": {},
   "outputs": [],
   "source": [
    "df_res_heatmap = visualize.df_heatmap(ddf_gold, ddf_res[ddf_res['Setting'] == 'zero_shot'])\n",
    "df_res_heatmap.set_xlabel('Predicted label', fontsize=16)\n",
    "df_res_heatmap.set_ylabel('Actual label', fontsize=16)"
   ]
  },
  {
   "cell_type": "code",
   "execution_count": null,
   "id": "b947dab6",
   "metadata": {},
   "outputs": [],
   "source": [
    "# util.save_picture(df_res_heatmap.figure, name='sbert_feat_confusion')"
   ]
  },
  {
   "cell_type": "code",
   "execution_count": null,
   "id": "311698a5",
   "metadata": {},
   "outputs": [],
   "source": [
    "# Sanity check: Predicted = 0, Actual = 1 should produce the value in the lower left cell\n",
    "ddf_res[(ddf_res['Setting'] == 'zero_shot') & (ddf_res['Label'] == '0') & (ddf_gold['Label'] == '1')]['ID'].count()"
   ]
  },
  {
   "cell_type": "markdown",
   "id": "001e6d91",
   "metadata": {},
   "source": [
    "Confusion matrix for the bert+feature model."
   ]
  },
  {
   "cell_type": "code",
   "execution_count": null,
   "id": "d2caf101",
   "metadata": {},
   "outputs": [],
   "source": [
    "df_res2_heatmap = visualize.df_heatmap(ddf_gold, ddf_res2[ddf_res2['Setting'] == 'zero_shot'])\n",
    "df_res2_heatmap.set_xlabel('Predicted label', fontsize=16)\n",
    "df_res2_heatmap.set_ylabel('Actual label', fontsize=16)"
   ]
  },
  {
   "cell_type": "code",
   "execution_count": null,
   "id": "d07a46a2",
   "metadata": {},
   "outputs": [],
   "source": [
    "# util.save_picture(df_res2_heatmap.figure, name='bert_feat_confusion')"
   ]
  },
  {
   "cell_type": "code",
   "execution_count": null,
   "id": "b549af3d",
   "metadata": {},
   "outputs": [],
   "source": [
    "ddf_res2[(ddf_res2['Setting'] == 'zero_shot') & (ddf_res2['Label'] == '0') & (ddf_gold['Label'] == '1')]['ID'].count()"
   ]
  },
  {
   "cell_type": "code",
   "execution_count": null,
   "id": "9b42dda1",
   "metadata": {},
   "outputs": [],
   "source": [
    "def feat_show(df, feats: List[str], x: str, hue: str, savename: Optional[str] = None, numcols: int = 4):\n",
    "    if not savename:\n",
    "        rowcount = len(feats) // numcols + 1\n",
    "        fig, axes = plt.subplots(rowcount, numcols, sharex=True, figsize=(5*numcols, 5*rowcount))\n",
    "    row=0\n",
    "    col=0\n",
    "    for f in feats:\n",
    "        if savename:\n",
    "            fig, axes = plt.subplots(1, 1, sharex=True, figsize=(5, 5))\n",
    "            ax = sns.boxplot(ax=axes, data=df, y=f, hue=hue, x=x)\n",
    "            util.save_picture(ax.figure, name=savename + '_' + f)\n",
    "        else:\n",
    "            if len(feats) < numcols:\n",
    "                sns.boxplot(ax=axes[row], data=df, y=f, hue=hue, x=x)\n",
    "            else:\n",
    "                sns.boxplot(ax=axes[row, col], data=df, y=f, hue=hue, x=x)\n",
    "\n",
    "            col += 1\n",
    "            if col >= numcols:\n",
    "                row += 1\n",
    "                col = 0\n"
   ]
  },
  {
   "cell_type": "code",
   "execution_count": null,
   "id": "35ac0de7",
   "metadata": {},
   "outputs": [],
   "source": [
    "feat_show(zdf_bt3, ['Sentiment', 'Nextdiff', 'Prevdiff', 'MWEdiff', 'Top score', 'Top score 1', 'Top score 2', 'FoundScore'], 'Language', 'Label')"
   ]
  },
  {
   "cell_type": "code",
   "execution_count": null,
   "id": "d852910a",
   "metadata": {},
   "outputs": [],
   "source": [
    "# feat_show(zdf_bt3, ['Sentiment', 'Nextdiff', 'Prevdiff', 'MWEdiff', 'Top score', 'Top score 1', 'Top score 2', 'FoundScore'], 'Language', 'Label', 'feat')"
   ]
  },
  {
   "cell_type": "code",
   "execution_count": null,
   "id": "a2211039",
   "metadata": {},
   "outputs": [],
   "source": [
    "comb_t = pd.concat([zdf_t, ddf_t], ignore_index=True)\n",
    "comb_bt3 = pd.concat([zdf_bt3, ddf_bt3], ignore_index=True)"
   ]
  },
  {
   "cell_type": "code",
   "execution_count": null,
   "id": "ea3b25c8",
   "metadata": {},
   "outputs": [],
   "source": [
    "fig5, axes5 = plt.subplots(3, 4, figsize=(20,15))\n",
    "row=0\n",
    "col=0\n",
    "for column in comb_t.drop(['Label', 'Hassub', 'Caps', 'Quotes', 'Trans', 'Set'], axis=1):\n",
    "    # print(row,col)\n",
    "    sns.boxplot(ax=axes5[row, col], y=comb_t[column], hue=comb_t['Set'], x=comb_t['Label'])\n",
    "    col += 1\n",
    "    if col >= axes5.shape[1]:\n",
    "        row += 1\n",
    "        col = 0"
   ]
  },
  {
   "cell_type": "code",
   "execution_count": null,
   "id": "62ce4580",
   "metadata": {},
   "outputs": [],
   "source": [
    "fig6, axes6 = plt.subplots(1, 4, figsize=(20,4))\n",
    "sns.countplot(ax=axes6[0], data=zdf_bt3, x='Hassub', hue='Label')\n",
    "sns.countplot(ax=axes6[1], data=zdf_bt3, x='Quotes', hue='Label')\n",
    "sns.countplot(ax=axes6[2], data=zdf_bt3, x='Caps', hue='Label')\n",
    "sns.countplot(ax=axes6[3], data=zdf_bt3, x='Trans', hue='Label')\n",
    "fig7, axes7 = plt.subplots(1, 4, figsize=(20,4))\n",
    "sns.countplot(ax=axes7[0], data=zdf_bt3[zdf_bt3['Language'] == 'EN'], x='Hassub', hue='Label')\n",
    "sns.countplot(ax=axes7[1], data=zdf_bt3[zdf_bt3['Language'] == 'EN'], x='Quotes', hue='Label')\n",
    "sns.countplot(ax=axes7[2], data=zdf_bt3[zdf_bt3['Language'] == 'EN'], x='Caps', hue='Label')\n",
    "sns.countplot(ax=axes7[3], data=zdf_bt3[zdf_bt3['Language'] == 'EN'], x='Trans', hue='Label')\n",
    "fig8, axes8 = plt.subplots(1, 4, figsize=(20,4))\n",
    "sns.countplot(ax=axes8[0], data=zdf_bt3[zdf_bt3['Language'] == 'PT'], x='Hassub', hue='Label', hue_order=['0','1'])\n",
    "sns.countplot(ax=axes8[1], data=zdf_bt3[zdf_bt3['Language'] == 'PT'], x='Quotes', hue='Label', hue_order=['0','1'])\n",
    "sns.countplot(ax=axes8[2], data=zdf_bt3[zdf_bt3['Language'] == 'PT'], x='Caps', hue='Label', hue_order=['0','1'])\n",
    "sns.countplot(ax=axes8[3], data=zdf_bt3[zdf_bt3['Language'] == 'PT'], x='Trans', hue='Label', hue_order=['0','1'])"
   ]
  },
  {
   "cell_type": "code",
   "execution_count": null,
   "id": "17d61fed",
   "metadata": {},
   "outputs": [],
   "source": [
    "# util.save_picture(fig6, name='bool_all')\n",
    "# util.save_picture(fig7, name='bool_en')\n",
    "# util.save_picture(fig8, name='bool_pt')"
   ]
  },
  {
   "cell_type": "code",
   "execution_count": null,
   "id": "47b9ffa4",
   "metadata": {},
   "outputs": [],
   "source": [
    "fig9, axes9 = plt.subplots(3, 4, figsize=(20,15))\n",
    "row=0\n",
    "col=0\n",
    "for column in zdf_t.drop(['Label', 'Hassub', 'Caps', 'Quotes', 'Trans', 'Set'], axis=1):\n",
    "    # print(row,col)\n",
    "    sns.violinplot(ax=axes9[row, col], y=zdf_t[column], hue=zdf_t['Label'], x=zdf_bt3['Language'], split=True)\n",
    "    col += 1\n",
    "    if col >= axes9.shape[1]:\n",
    "        row += 1\n",
    "        col = 0"
   ]
  },
  {
   "cell_type": "code",
   "execution_count": null,
   "id": "11f87932",
   "metadata": {},
   "outputs": [],
   "source": [
    "# util.save_picture(fig9, name='violin')"
   ]
  },
  {
   "cell_type": "code",
   "execution_count": null,
   "id": "2dd454a2",
   "metadata": {},
   "outputs": [],
   "source": [
    "fig10, axes10 = plt.subplots(1, 4, figsize=(20,4))\n",
    "sns.countplot(ax=axes10[0], data=zdf_bt3, hue='Hassub', x='Label')\n",
    "sns.countplot(ax=axes10[1], data=zdf_bt3, hue='Quotes', x='Label')\n",
    "sns.countplot(ax=axes10[2], data=zdf_bt3, hue='Caps', x='Label')\n",
    "sns.countplot(ax=axes10[3], data=zdf_bt3, hue='Trans', x='Label')\n",
    "fig11, axes11 = plt.subplots(1, 4, figsize=(20,4))\n",
    "sns.countplot(ax=axes11[0], data=zdf_bt3[zdf_bt3['Language'] == 'EN'], hue='Hassub', x='Label')\n",
    "sns.countplot(ax=axes11[1], data=zdf_bt3[zdf_bt3['Language'] == 'EN'], hue='Quotes', x='Label')\n",
    "sns.countplot(ax=axes11[2], data=zdf_bt3[zdf_bt3['Language'] == 'EN'], hue='Caps', x='Label')\n",
    "sns.countplot(ax=axes11[3], data=zdf_bt3[zdf_bt3['Language'] == 'EN'], hue='Trans', x='Label')\n",
    "fig12, axes12 = plt.subplots(1, 4, figsize=(20,4))\n",
    "sns.countplot(ax=axes12[0], data=zdf_bt3[zdf_bt3['Language'] == 'PT'], hue='Hassub', x='Label', order=['0','1'])\n",
    "sns.countplot(ax=axes12[1], data=zdf_bt3[zdf_bt3['Language'] == 'PT'], hue='Quotes', x='Label', order=['0','1'])\n",
    "sns.countplot(ax=axes12[2], data=zdf_bt3[zdf_bt3['Language'] == 'PT'], hue='Caps', x='Label', order=['0', '1'])\n",
    "sns.countplot(ax=axes12[3], data=zdf_bt3[zdf_bt3['Language'] == 'PT'], hue='Trans', x='Label', order=['0', '1'])"
   ]
  },
  {
   "cell_type": "code",
   "execution_count": null,
   "id": "b9d10370",
   "metadata": {},
   "outputs": [],
   "source": [
    "# util.save_picture(fig10, name='label_bool_all')\n",
    "# util.save_picture(fig11, name='label_bool_en')\n",
    "# util.save_picture(fig12, name='label_bool_pt')"
   ]
  },
  {
   "cell_type": "code",
   "execution_count": null,
   "id": "7bfd4a0c",
   "metadata": {},
   "outputs": [],
   "source": [
    "heatmap_z = sns.clustermap(zdf_t.corr(), cbar_pos=(.1, .5, .03, .2), cmap=\"Blues\")\n",
    "heatmap_z.ax_row_dendrogram.remove()"
   ]
  },
  {
   "cell_type": "code",
   "execution_count": null,
   "id": "6d9b495c",
   "metadata": {},
   "outputs": [],
   "source": [
    "# util.save_picture(heatmap_z, name='heatmap')"
   ]
  },
  {
   "cell_type": "code",
   "execution_count": null,
   "id": "761e44df",
   "metadata": {},
   "outputs": [],
   "source": [
    "# cf = pd.crosstab(zdf_bt3['Trans'], zdf_bt3['Label'])\n",
    "# sns.heatmap(cf, annot=True, cmap='Blues', fmt='d')\n",
    "# sns.jointplot(data=zdf_bt3, x='Sentiment', y='Top score', hue='Label')\n",
    "# fig11, axes11 = plt.subplots(1, 2, figsize=(8,4))\n",
    "# sns.kdeplot(ax=axes11[0],data=zdf_bt3[zdf_bt3['Language'] == 'EN'], hue='Label', x='Sentiment', fill=True)\n",
    "# sns.kdeplot(ax=axes11[1],data=zdf_bt3[zdf_bt3['Language'] == 'PT'], hue='Label', x='Sentiment', fill=True)"
   ]
  },
  {
   "cell_type": "code",
   "execution_count": null,
   "id": "9b25e707",
   "metadata": {},
   "outputs": [],
   "source": [
    "fig13, axes13 = plt.subplots(1, 4, figsize=(20,4))\n",
    "sns.countplot(ax=axes13[0], data=zdf_bt3, hue='Hassub', x='Language').set_title('Training')\n",
    "sns.countplot(ax=axes13[1], data=ddf_bt3, hue='Hassub', x='Language').set_title('Development')\n",
    "sns.countplot(ax=axes13[2], data=edf_bt3, hue='Hassub', x='Language').set_title('Evaluation')\n",
    "sns.countplot(ax=axes13[3], data=tdf_bt3, hue='Hassub', x='Language').set_title('Test')"
   ]
  },
  {
   "cell_type": "code",
   "execution_count": null,
   "id": "66cd244a",
   "metadata": {},
   "outputs": [],
   "source": [
    "fig14, axes14 = plt.subplots(1, 4, figsize=(20,4))\n",
    "sns.countplot(ax=axes14[0], data=zdf_bt3, hue='Trans', x='Language').set_title('Training')\n",
    "sns.countplot(ax=axes14[1], data=ddf_bt3, hue='Trans', x='Language').set_title('Development')\n",
    "sns.countplot(ax=axes14[2], data=edf_bt3, hue='Trans', x='Language').set_title('Evaluation')\n",
    "sns.countplot(ax=axes14[3], data=tdf_bt3, hue='Trans', x='Language').set_title('Test')"
   ]
  },
  {
   "cell_type": "code",
   "execution_count": null,
   "id": "df443fdd",
   "metadata": {},
   "outputs": [],
   "source": [
    "# util.save_picture(fig13, name='hassub_byset')\n",
    "# util.save_picture(fig14, name='trans_byset')"
   ]
  },
  {
   "cell_type": "code",
   "execution_count": null,
   "id": "6e7f00f4",
   "metadata": {},
   "outputs": [],
   "source": [
    "fig15, axes15 = plt.subplots(1, 4, figsize=(20,4))\n",
    "sns.boxplot(ax=axes15[0], data=zdf_bt3, x='Language', y='Sentiment').set_title('Training')\n",
    "sns.boxplot(ax=axes15[1], data=ddf_bt3, x='Language', y='Sentiment').set_title('Development')\n",
    "sns.boxplot(ax=axes15[2], data=edf_bt3, x='Language', y='Sentiment').set_title('Evaluation')\n",
    "sns.boxplot(ax=axes15[3], data=tdf_bt3, x='Language', y='Sentiment').set_title('Test')"
   ]
  },
  {
   "cell_type": "code",
   "execution_count": null,
   "id": "c535f705",
   "metadata": {},
   "outputs": [],
   "source": [
    "fig16, axes16 = plt.subplots(1, 4, figsize=(20,4))\n",
    "sns.violinplot(ax=axes16[0], data=zdf_bt3, x='Language', y='Sentiment').set_title('Training')\n",
    "sns.violinplot(ax=axes16[1], data=ddf_bt3, x='Language', y='Sentiment').set_title('Development')\n",
    "sns.violinplot(ax=axes16[2], data=edf_bt3, x='Language', y='Sentiment').set_title('Evaluation')\n",
    "sns.violinplot(ax=axes16[3], data=tdf_bt3, x='Language', y='Sentiment').set_title('Test')"
   ]
  },
  {
   "cell_type": "code",
   "execution_count": null,
   "id": "66008fdb",
   "metadata": {},
   "outputs": [],
   "source": [
    "# util.save_picture(fig15, name='sentiment_box_byset')\n",
    "# util.save_picture(fig16, name='sentiment_violin_byset')"
   ]
  },
  {
   "cell_type": "code",
   "execution_count": null,
   "id": "debb3ebf",
   "metadata": {},
   "outputs": [],
   "source": [
    "fig17, axes17 = plt.subplots(1, 4, figsize=(20,4))\n",
    "sns.countplot(ax=axes17[0], data=zdf_bt3, hue='Caps', x='Language').set_title('Training')\n",
    "sns.countplot(ax=axes17[1], data=ddf_bt3, hue='Caps', x='Language').set_title('Development')\n",
    "sns.countplot(ax=axes17[2], data=edf_bt3, hue='Caps', x='Language').set_title('Evaluation')\n",
    "sns.countplot(ax=axes17[3], data=tdf_bt3, hue='Caps', x='Language').set_title('Test')"
   ]
  },
  {
   "cell_type": "code",
   "execution_count": null,
   "id": "e46c75bd",
   "metadata": {},
   "outputs": [],
   "source": [
    "fig18, axes18 = plt.subplots(1, 4, figsize=(20,4))\n",
    "sns.countplot(ax=axes18[0], data=zdf_bt3, hue='Quotes', x='Language').set_title('Training')\n",
    "sns.countplot(ax=axes18[1], data=ddf_bt3, hue='Quotes', x='Language').set_title('Development')\n",
    "sns.countplot(ax=axes18[2], data=edf_bt3, hue='Quotes', x='Language').set_title('Evaluation')\n",
    "sns.countplot(ax=axes18[3], data=tdf_bt3, hue='Quotes', x='Language').set_title('Test')"
   ]
  },
  {
   "cell_type": "code",
   "execution_count": null,
   "id": "cfccb6cd",
   "metadata": {},
   "outputs": [],
   "source": [
    "meanvals = pd.DataFrame(columns=['Set', 'Language', 'Feature', 'Score'])\n",
    "for setname, setdf in zip(['Training', 'Development', 'Evaluation', 'Test'], [zdf_bt3, ddf_bt3, edf_bt3, tdf_bt3]):\n",
    "    for language in setdf.Language.unique():\n",
    "        v = setdf[setdf['Language'] == language].mean()\n",
    "        for k in v.keys():\n",
    "            if k in ['FoundIdx', 'Label' ,'ID']:\n",
    "                continue\n",
    "            val = v[k]\n",
    "            meanvals.loc[len(meanvals)] = [setname, language, k, val]"
   ]
  },
  {
   "cell_type": "code",
   "execution_count": null,
   "id": "6b451be8",
   "metadata": {},
   "outputs": [],
   "source": [
    "meanvals"
   ]
  },
  {
   "cell_type": "code",
   "execution_count": null,
   "id": "1855c4c3",
   "metadata": {},
   "outputs": [],
   "source": [
    "fig19, axes19 = plt.subplots(2, 1, figsize=(20,10))\n",
    "sns.barplot(data=meanvals, ax=axes19[0], hue='Set', x='Feature', y='Score')\n",
    "sns.barplot(data=meanvals, ax=axes19[1], hue='Language', x='Feature', y='Score')"
   ]
  },
  {
   "cell_type": "code",
   "execution_count": null,
   "id": "8edde032",
   "metadata": {},
   "outputs": [],
   "source": []
  }
 ],
 "metadata": {
  "kernelspec": {
   "display_name": "Python 3 (ipykernel)",
   "language": "python",
   "name": "python3"
  },
  "language_info": {
   "codemirror_mode": {
    "name": "ipython",
    "version": 3
   },
   "file_extension": ".py",
   "mimetype": "text/x-python",
   "name": "python",
   "nbconvert_exporter": "python",
   "pygments_lexer": "ipython3",
   "version": "3.8.9"
  }
 },
 "nbformat": 4,
 "nbformat_minor": 5
}
