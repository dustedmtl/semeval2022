{
 "cells": [
  {
   "cell_type": "code",
   "execution_count": null,
   "id": "0d8fba27",
   "metadata": {},
   "outputs": [],
   "source": [
    "%load_ext autoreload\n",
    "%autoreload 2"
   ]
  },
  {
   "cell_type": "code",
   "execution_count": null,
   "id": "b556ef8e",
   "metadata": {},
   "outputs": [],
   "source": [
    "from IPython.core.display import display, HTML\n",
    "display(HTML(\"<style>.container { width: 95% !important; }</style>\"))\n",
    "import pandas as pd\n",
    "pd.set_option('display.max_colwidth', None)"
   ]
  },
  {
   "cell_type": "code",
   "execution_count": null,
   "id": "26721376",
   "metadata": {},
   "outputs": [],
   "source": [
    "import sys\n",
    "import os\n",
    "import re\n",
    "import numpy as np\n",
    "import pandas as pd\n",
    "\n",
    "# from pathlib import Path\n",
    "from tqdm.notebook import tqdm"
   ]
  },
  {
   "cell_type": "code",
   "execution_count": null,
   "id": "506cdbe8",
   "metadata": {},
   "outputs": [],
   "source": [
    "from lib import util, embeds, fitter, masker, features, sentiment, translate"
   ]
  },
  {
   "cell_type": "code",
   "execution_count": null,
   "id": "2c15cbc6",
   "metadata": {},
   "outputs": [],
   "source": [
    "# FIXME: add lines for git clone SemeEval2022 and Stitch data"
   ]
  },
  {
   "cell_type": "code",
   "execution_count": null,
   "id": "f92a528f",
   "metadata": {},
   "outputs": [],
   "source": [
    "datapath = 'SemEval_2022_Task2-idiomaticity/SubTaskA/Data'"
   ]
  },
  {
   "cell_type": "markdown",
   "id": "d0ad1ac9",
   "metadata": {},
   "source": [
    "Load all the CSV files in dataframes."
   ]
  },
  {
   "cell_type": "code",
   "execution_count": null,
   "id": "11e802a1",
   "metadata": {},
   "outputs": [],
   "source": [
    "frames = util.load_csv_dataframes(datapath)"
   ]
  },
  {
   "cell_type": "code",
   "execution_count": null,
   "id": "9f34d969",
   "metadata": {},
   "outputs": [],
   "source": [
    "frames.keys()"
   ]
  },
  {
   "cell_type": "code",
   "execution_count": null,
   "id": "234b817f",
   "metadata": {},
   "outputs": [],
   "source": [
    "zdf = frames['train_zero_shot.csv']\n",
    "odf = frames['train_one_shot.csv']\n",
    "ddf = frames['dev.csv']\n",
    "ddf_gold = frames['dev_gold.csv']\n",
    "edf = frames['eval.csv']"
   ]
  },
  {
   "cell_type": "code",
   "execution_count": null,
   "id": "733ca83e",
   "metadata": {},
   "outputs": [],
   "source": [
    "z_emb = embeds.get_embeddings(zdf)\n",
    "z_emb_i = embeds.get_embeddings(zdf, append=['MWE'])"
   ]
  },
  {
   "cell_type": "code",
   "execution_count": null,
   "id": "331e41f8",
   "metadata": {},
   "outputs": [],
   "source": [
    "multilingual_model = 'distiluse-base-multilingual-cased-v1'"
   ]
  },
  {
   "cell_type": "markdown",
   "id": "5cfb4853",
   "metadata": {},
   "source": [
    "### Sentence transformers embeddings\n",
    "\n",
    "Get sentence-transformers embeddings with the best method (appending MWE to the text, ignoring context).\n",
    "\n",
    "The \"best\" method isn't actually completely true, as the original paper uses the \"idiomatic principle\" to encode the MWE, that is, using it as a single token when tokenizing."
   ]
  },
  {
   "cell_type": "code",
   "execution_count": null,
   "id": "96a386ad",
   "metadata": {},
   "outputs": [],
   "source": [
    "z_emb_multi = embeds.get_embeddings(zdf, modelname=multilingual_model, append=['MWE'])"
   ]
  },
  {
   "cell_type": "code",
   "execution_count": null,
   "id": "9c824cd3",
   "metadata": {},
   "outputs": [],
   "source": [
    "d_emb_multi = embeds.get_embeddings(ddf, modelname=multilingual_model, append=['MWE'])"
   ]
  },
  {
   "cell_type": "markdown",
   "id": "7d0c3a74",
   "metadata": {},
   "source": [
    "Do a fitting for the embeddings with Logistic Regression."
   ]
  },
  {
   "cell_type": "code",
   "execution_count": null,
   "id": "d079fa41",
   "metadata": {},
   "outputs": [],
   "source": [
    "z_score, z_probs, z_results = fitter.get_fit_results(z_emb_multi, zdf['Label'], d_emb_multi, ddf_gold['Label'])"
   ]
  },
  {
   "cell_type": "code",
   "execution_count": null,
   "id": "d827ae09",
   "metadata": {},
   "outputs": [],
   "source": [
    "z_score"
   ]
  },
  {
   "cell_type": "code",
   "execution_count": null,
   "id": "363aa2b3",
   "metadata": {},
   "outputs": [],
   "source": [
    "dres = fitter.add_results(ddf, z_results, ddf_gold)"
   ]
  },
  {
   "cell_type": "code",
   "execution_count": null,
   "id": "4ffacb99",
   "metadata": {},
   "outputs": [],
   "source": [
    "dres"
   ]
  },
  {
   "cell_type": "code",
   "execution_count": null,
   "id": "83b838e1",
   "metadata": {},
   "outputs": [],
   "source": [
    "dres_counts = util.get_counts(dres)"
   ]
  },
  {
   "cell_type": "markdown",
   "id": "241aa858",
   "metadata": {},
   "source": [
    "Show the MWEs that the model gets wrong more than half of the time. Are there any patterns?"
   ]
  },
  {
   "cell_type": "code",
   "execution_count": null,
   "id": "5560cd92",
   "metadata": {},
   "outputs": [],
   "source": [
    "dres_counts[dres_counts['Pct correct'] < 0.5].sort_values(by=['Language','MWE'])"
   ]
  },
  {
   "cell_type": "markdown",
   "id": "d7147b15",
   "metadata": {},
   "source": [
    "### Mask filling\n",
    "\n",
    "Get several features based on mask-filling pipeline.\n",
    "\n",
    "Rationale: It should be more difficult to get mask filling to work when the MWE is idiomatic.\n",
    "\n",
    "There are three ways to do mask filling for the MWE:\n",
    "- replace the whole expression: banana republic -\\> \\<mask\\>\n",
    "- replace the first term: \\<mask\\> republic\n",
    "- replace the second term: banana \\<mask\\>\n",
    "\n",
    "The mask filling generates several features:\n",
    "- Hassub: whether a top-5 term is found in the MWE (exactly)\n",
    "- Top score: the confidence score of the top term\n",
    "- Short/FS/SS: Amount of \"Short\" terms (less than three characters) in whole mask vs first term replacement vs second term replacement, respectively\n",
    "\n",
    "Additionally, the top terms are recorded into Top score columns.\n",
    "\n",
    "The Top score is only recorded for an \"acceptable\" term (at least three characters and no non-word characters) "
   ]
  },
  {
   "cell_type": "code",
   "execution_count": null,
   "id": "c50f357f",
   "metadata": {},
   "outputs": [],
   "source": [
    "zdf_masked = masker.get_masked_features(zdf)"
   ]
  },
  {
   "cell_type": "code",
   "execution_count": null,
   "id": "b23635e8",
   "metadata": {},
   "outputs": [],
   "source": [
    "zdf_masked.groupby(['Language','Label','Hassub'])['DataID'].count()"
   ]
  },
  {
   "cell_type": "code",
   "execution_count": null,
   "id": "dd0d4798",
   "metadata": {},
   "outputs": [],
   "source": [
    "ddf_masked = masker.get_masked_features(ddf)"
   ]
  },
  {
   "cell_type": "code",
   "execution_count": null,
   "id": "c541e14b",
   "metadata": {},
   "outputs": [],
   "source": [
    "ddf_masked[ddf_masked['Hassub'] == False][535:600]"
   ]
  },
  {
   "cell_type": "code",
   "execution_count": null,
   "id": "e70c6499",
   "metadata": {},
   "outputs": [],
   "source": [
    "ddf_masked.groupby(['Language','Hassub'])['ID'].count()"
   ]
  },
  {
   "cell_type": "code",
   "execution_count": null,
   "id": "db09098f",
   "metadata": {},
   "outputs": [],
   "source": [
    "str_prob = 'Além de ter sido um fracasso de bilheteria e crítica, o filme acabou marcado pelos seus efeitos especiais, principalmente ao antropomorfizar os gatos, que, bem, ficam um pouco bisonhos.'\n",
    "str_prob_2 = 'Professor livre docente da Unesp, Fortaleza é presidente da Sociedade Paulista de Infectologia e membro do Comitê de Contingência da COVID-19, do Governo do Estado de São Paulo.'\n",
    "str_prob_3 = 'Com a segurança da imunização em massa e os números traduzindo sua eficácia, fica mais fácil para o americano médio sentir-se confiante em marcar sua próxima viagem, gerando um circulo virtuoso para o setor nos próximos meses.'\n"
   ]
  },
  {
   "cell_type": "code",
   "execution_count": null,
   "id": "d60e0d0c",
   "metadata": {},
   "outputs": [],
   "source": [
    "masker.replacer2(str_prob_3, 'círculo virtuoso', '<mask>', ' ')"
   ]
  },
  {
   "cell_type": "code",
   "execution_count": null,
   "id": "4041ded6",
   "metadata": {},
   "outputs": [],
   "source": [
    "masker.replacer2(str_prob, 'efeito especial', 'efeito <mask>', ' ')"
   ]
  },
  {
   "cell_type": "code",
   "execution_count": null,
   "id": "3f5628c1",
   "metadata": {},
   "outputs": [],
   "source": [
    "masker.replace_mask_token(str_prob_2, 'livre-docente', 'livre-<mask>')"
   ]
  },
  {
   "cell_type": "code",
   "execution_count": null,
   "id": "42b0438f",
   "metadata": {},
   "outputs": [],
   "source": [
    "masker.replace_mask_token(str_prob, 'efeito especial', 'efeito <mask>', '<mask>')"
   ]
  },
  {
   "cell_type": "code",
   "execution_count": null,
   "id": "383c6049",
   "metadata": {},
   "outputs": [],
   "source": [
    "masker.replace_mask_token(str_prob, 'efeito especial', '<mask>')"
   ]
  },
  {
   "cell_type": "markdown",
   "id": "771f26ac",
   "metadata": {},
   "source": [
    "### Boolean features\n",
    "\n",
    "Get features: Caps and Quotes.\n",
    "\n",
    "Rationale:\n",
    "- MWEs in Caps (Banana Republic vs banana republic) are more likely to be a proper noun (PN)\n",
    "- Quoted MWEs are more likely to be idiomatic"
   ]
  },
  {
   "cell_type": "code",
   "execution_count": null,
   "id": "5e4e47e0",
   "metadata": {},
   "outputs": [],
   "source": [
    "zdf_masked_feats = features.get_features(zdf_masked)"
   ]
  },
  {
   "cell_type": "code",
   "execution_count": null,
   "id": "bc11fe2c",
   "metadata": {},
   "outputs": [],
   "source": [
    "zdf_masked_feats.groupby(['Language','Label','Caps'])['DataID'].count()"
   ]
  },
  {
   "cell_type": "code",
   "execution_count": null,
   "id": "1522d209",
   "metadata": {},
   "outputs": [],
   "source": [
    "ddf_masked_feats = features.get_features(ddf_masked)"
   ]
  },
  {
   "cell_type": "code",
   "execution_count": null,
   "id": "7357e5ad",
   "metadata": {},
   "outputs": [],
   "source": [
    "# dir(sentiment)"
   ]
  },
  {
   "cell_type": "markdown",
   "id": "cd035f21",
   "metadata": {},
   "source": [
    "### Sentiment classifier\n",
    "\n",
    "Rationale: idiomatic expressions are more likely to be affective (positive or negative).\n",
    "\n",
    "Neutral sentiment probability is used as a proxy for literality."
   ]
  },
  {
   "cell_type": "code",
   "execution_count": null,
   "id": "6db0f6a2",
   "metadata": {},
   "outputs": [],
   "source": [
    "sentiment_classifier, sentiment_tokenizer, sentiment_config = sentiment.get_classifier_tokenizer()"
   ]
  },
  {
   "cell_type": "code",
   "execution_count": null,
   "id": "f6694229",
   "metadata": {},
   "outputs": [],
   "source": [
    "sentiment.get_sentiment(ddf_masked_feats['Target'].values[0], sentiment_classifier, sentiment_tokenizer, sentiment_config)"
   ]
  },
  {
   "cell_type": "code",
   "execution_count": null,
   "id": "d6092808",
   "metadata": {},
   "outputs": [],
   "source": [
    "ddf_masked_feats_sent = sentiment.get_df_sentiments(ddf_masked_feats, sentiment_classifier, sentiment_tokenizer, sentiment_config)"
   ]
  },
  {
   "cell_type": "code",
   "execution_count": null,
   "id": "7372b93b",
   "metadata": {},
   "outputs": [],
   "source": [
    "zdf_masked_feats_sent = sentiment.get_df_sentiments(zdf_masked_feats, sentiment_classifier, sentiment_tokenizer, sentiment_config)"
   ]
  },
  {
   "cell_type": "code",
   "execution_count": null,
   "id": "3b7f412c",
   "metadata": {},
   "outputs": [],
   "source": [
    "zdf_masked_feats_sent[zdf_masked_feats_sent['Label'] == '0'].mean()"
   ]
  },
  {
   "cell_type": "code",
   "execution_count": null,
   "id": "736d8547",
   "metadata": {},
   "outputs": [],
   "source": [
    "zdf_masked_feats_sent[zdf_masked_feats_sent['Label'] == '1'].mean()"
   ]
  },
  {
   "cell_type": "code",
   "execution_count": null,
   "id": "b8617271",
   "metadata": {},
   "outputs": [],
   "source": [
    "btmodel1, btmodel2, bttoken1, bttoken2 = translate.get_marian_models()"
   ]
  },
  {
   "cell_type": "markdown",
   "id": "4694d258",
   "metadata": {},
   "source": [
    "### Backtranslation\n",
    "\n",
    "Translate text from English to Portuguese and back (and vice versa if the source language is Portuguese).\n",
    "\n",
    "Rationale: the expression is more likely to be idiomatic if it is not found from the backtranslation."
   ]
  },
  {
   "cell_type": "code",
   "execution_count": null,
   "id": "b9fa7087",
   "metadata": {},
   "outputs": [],
   "source": [
    "zdf_bt = translate.backtranslate(zdf_masked_feats_sent, btmodel1, btmodel2, bttoken1, bttoken2, batch_len=10)"
   ]
  },
  {
   "cell_type": "code",
   "execution_count": null,
   "id": "005f84fd",
   "metadata": {},
   "outputs": [],
   "source": [
    "ddf_bt = translate.backtranslate(ddf_masked_feats_sent, btmodel1, btmodel2, bttoken1, bttoken2, batch_len=10)"
   ]
  },
  {
   "cell_type": "code",
   "execution_count": null,
   "id": "55a684ae",
   "metadata": {},
   "outputs": [],
   "source": [
    "# zdf_bt.sort_values(by=\"BT\", key=lambda x: x.str.len())"
   ]
  },
  {
   "cell_type": "code",
   "execution_count": null,
   "id": "9ef69988",
   "metadata": {},
   "outputs": [],
   "source": [
    "zdf_bt2 = translate.record_trans(zdf_bt)"
   ]
  },
  {
   "cell_type": "code",
   "execution_count": null,
   "id": "b027b4c7",
   "metadata": {},
   "outputs": [],
   "source": [
    "ddf_bt2 = translate.record_trans(ddf_bt)"
   ]
  },
  {
   "cell_type": "code",
   "execution_count": null,
   "id": "5348c09b",
   "metadata": {},
   "outputs": [],
   "source": [
    "zdf_bt2.groupby(['Language','Label','Trans'])['DataID'].count()"
   ]
  },
  {
   "cell_type": "code",
   "execution_count": null,
   "id": "6ec51d8e",
   "metadata": {},
   "outputs": [],
   "source": [
    "ddf_bt2.groupby(['Language','Trans'])['ID'].count()"
   ]
  },
  {
   "cell_type": "code",
   "execution_count": null,
   "id": "649fd67a",
   "metadata": {},
   "outputs": [],
   "source": [
    "# zdf_bt3 = translate.record_trans(zdf_bt)\n",
    "# zdf_bt4 = translate.record_trans(zdf_bt)\n",
    "# zdf_bt_3 = translate.record_trans(zdf_bt[zdf_bt['MWE'] == 'círculo virtuoso'])\n",
    "# zdf_bt3.groupby(['Language','Label','Trans'])['DataID'].count()\n",
    "# zdf_bt3[zdf_bt3['Trans'] != zdf_bt2['Trans']]\n",
    "# zdf_bt4[zdf_bt3['Trans'] != zdf_bt4['Trans']]\n",
    "# zdf_bt_3[(zdf_bt_3['Trans'] == False) & (zdf_bt_3['MWE'] == 'círculo virtuoso')][['Target', 'Label', 'MWE', 'BT', 'Trans']]"
   ]
  },
  {
   "cell_type": "code",
   "execution_count": null,
   "id": "256ada96",
   "metadata": {},
   "outputs": [],
   "source": [
    "zdf_bt2[zdf_bt2['Label'] == '0'].mean()"
   ]
  },
  {
   "cell_type": "code",
   "execution_count": null,
   "id": "db8f5314",
   "metadata": {},
   "outputs": [],
   "source": [
    "zdf_bt2[zdf_bt2['Label'] == '1'].mean()"
   ]
  },
  {
   "cell_type": "code",
   "execution_count": null,
   "id": "2bae0d2a",
   "metadata": {},
   "outputs": [],
   "source": [
    "# Refactoring\n",
    "# FIXME: Combined classifier:\n",
    "# - get_trainable: ok\n",
    "# - multi_results\n",
    "# - check_feats: ok\n",
    "# FIXME: Previous/next/target code; get_cosine_diff"
   ]
  },
  {
   "cell_type": "code",
   "execution_count": null,
   "id": "39759b69",
   "metadata": {},
   "outputs": [],
   "source": [
    "# New features\n",
    "# FIXME: \"idiomatic\" feature vs \"literal\" feature (Trans vs Caps/Hassub)\n",
    "# FIXME: Save results to disk\n",
    "# FIXME: run feature extractors externally\n",
    "# Translation: handle en vs non-en"
   ]
  },
  {
   "cell_type": "code",
   "execution_count": null,
   "id": "46f4a3da",
   "metadata": {},
   "outputs": [],
   "source": [
    "zdf_t = fitter.get_trainable(zdf_bt2)"
   ]
  },
  {
   "cell_type": "code",
   "execution_count": null,
   "id": "8984539a",
   "metadata": {},
   "outputs": [],
   "source": [
    "ddf_t = fitter.get_trainable(ddf_bt2)"
   ]
  },
  {
   "cell_type": "code",
   "execution_count": null,
   "id": "f3b11559",
   "metadata": {},
   "outputs": [],
   "source": [
    "ddf_feat_score, ddf_feat_probs, ddf_feat_results = fitter.get_fit_results(zdf_t, zdf['Label'], ddf_t, ddf_gold['Label'])"
   ]
  },
  {
   "cell_type": "code",
   "execution_count": null,
   "id": "a58f3423",
   "metadata": {},
   "outputs": [],
   "source": [
    "ff = fitter.check_feats(zdf_t, zdf['Label'], ddf_t, ddf_gold['Label'])"
   ]
  },
  {
   "cell_type": "code",
   "execution_count": null,
   "id": "94d97fb3",
   "metadata": {},
   "outputs": [],
   "source": [
    "ff.sort_values(by=['Score'], ascending=True)"
   ]
  },
  {
   "cell_type": "code",
   "execution_count": null,
   "id": "bb1a8290",
   "metadata": {},
   "outputs": [],
   "source": [
    "# ff[ff['Sentiment']].sort_values(by=['Score'], ascending=True)[-20:]"
   ]
  },
  {
   "cell_type": "code",
   "execution_count": null,
   "id": "839e773e",
   "metadata": {},
   "outputs": [],
   "source": [
    "ff_rf = fitter.check_feats(zdf_t, zdf['Label'], ddf_t, ddf_gold['Label'], method=\"rf\")"
   ]
  },
  {
   "cell_type": "code",
   "execution_count": null,
   "id": "616c24ab",
   "metadata": {},
   "outputs": [],
   "source": [
    "ff_rf.sort_values(by=['Score'])"
   ]
  },
  {
   "cell_type": "code",
   "execution_count": null,
   "id": "cba0bde1",
   "metadata": {},
   "outputs": [],
   "source": []
  }
 ],
 "metadata": {
  "kernelspec": {
   "display_name": "Python 3 (ipykernel)",
   "language": "python",
   "name": "python3"
  },
  "language_info": {
   "codemirror_mode": {
    "name": "ipython",
    "version": 3
   },
   "file_extension": ".py",
   "mimetype": "text/x-python",
   "name": "python",
   "nbconvert_exporter": "python",
   "pygments_lexer": "ipython3",
   "version": "3.8.2"
  }
 },
 "nbformat": 4,
 "nbformat_minor": 5
}
